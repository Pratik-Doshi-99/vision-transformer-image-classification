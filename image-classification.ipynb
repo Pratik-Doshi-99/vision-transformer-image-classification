{
  "cells": [
    {
      "cell_type": "markdown",
      "metadata": {
        "id": "3qpKO4nEHz9E"
      },
      "source": [
        "# Imports"
      ]
    },
    {
      "cell_type": "code",
      "execution_count": 4,
      "metadata": {
        "id": "mf47cZWAnj1d"
      },
      "outputs": [],
      "source": [
        "import torch\n",
        "import torchvision\n",
        "import torchvision.transforms as transforms\n",
        "from torch.utils.data import DataLoader, Dataset\n",
        "import torch.nn as nn\n",
        "import torch.nn.functional as F\n",
        "import torch.optim as optim\n",
        "import torchvision.models as models\n",
        "\n",
        "# For matrix operations\n",
        "import numpy as np\n",
        "\n",
        "# Data visualizaton.\n",
        "import matplotlib.pyplot as plt\n",
        "from matplotlib import style\n",
        "import seaborn as sns\n",
        "import random as rn"
      ]
    },
    {
      "cell_type": "markdown",
      "metadata": {
        "id": "ectWxsDIGh3V"
      },
      "source": [
        "# Custom Image Dataset"
      ]
    },
    {
      "cell_type": "code",
      "execution_count": 5,
      "metadata": {
        "id": "2nmA1uMnoHV1"
      },
      "outputs": [],
      "source": [
        "import os\n",
        "from torchvision.io import read_image\n",
        "import pandas as pd\n",
        "from PIL import Image\n",
        "import math\n",
        "\n",
        "\n",
        "def get_default_device():\n",
        "  \"\"\"Pick GPU if available, else CPU\"\"\"\n",
        "  if torch.cuda.is_available():\n",
        "      return torch.device('cuda')\n",
        "  else:\n",
        "      return torch.device('cpu')\n",
        "\n",
        "device = get_default_device()\n",
        "\n",
        "class ImageDataset(Dataset):\n",
        "    def __init__(self, index_df, root=None, tranformations = None,\n",
        "                 augmentation = False, default_transformation = None):\n",
        "        # super().__init__()\n",
        "        self.root = root\n",
        "        self.augmentation = augmentation\n",
        "        self.device = get_default_device()\n",
        "        self.transformation = None\n",
        "        self.default_transformation = default_transformation\n",
        "        if root is None:\n",
        "          self.root = os.path.join('data', 'data','train','train')\n",
        "        #initializing the transformation set with the default conversion\n",
        "        if augmentation:\n",
        "          self.transformation = [\n",
        "              default_transformation\n",
        "          ]\n",
        "          if tranformations:\n",
        "            self.transformation.extend(tranformations)\n",
        "\n",
        "        self.index_file = index_df\n",
        "\n",
        "    def __len__(self):\n",
        "        if self.transformation:\n",
        "          return self.index_file.shape[0] * len(self.transformation)\n",
        "        return self.index_file.shape[0]\n",
        "\n",
        "    def __getitem__(self, index):\n",
        "      if self.transformation:\n",
        "        transformation_index = math.floor(index / self.index_file.shape[0])\n",
        "        file_index = index - (self.index_file.shape[0] * transformation_index)\n",
        "        #print(transformation_index, file_index)\n",
        "        img_path = os.path.join(self.root, str(self.index_file.iloc[file_index,0]) ,self.index_file.iloc[file_index,1])\n",
        "        label = self.index_file.iloc[file_index,0]\n",
        "\n",
        "        #image = read_image(img_path)\n",
        "        image = Image.open(img_path).convert('RGB')\n",
        "        image = self.transformation[transformation_index](image)\n",
        "\n",
        "      else:\n",
        "        #print(index)\n",
        "        img_path = os.path.join(self.root, str(self.index_file.iloc[index,0]) ,self.index_file.iloc[index,1])\n",
        "        #print('got file',img_path)\n",
        "        label = self.index_file.iloc[index,0]\n",
        "        #print('got label',label)\n",
        "        #image = read_image(img_path)\n",
        "        image = Image.open(img_path).convert('RGB')\n",
        "        if self.default_transformation:\n",
        "          image = self.default_transformation(image)\n",
        "        #print('got img',img.)\n",
        "\n",
        "      #return image.to(self.device), label\n",
        "      return image, label"
      ]
    },
    {
      "cell_type": "markdown",
      "metadata": {
        "id": "cnrVutPQGl5i"
      },
      "source": [
        "# Image Augmentation"
      ]
    },
    {
      "cell_type": "code",
      "execution_count": 6,
      "metadata": {
        "id": "HtDkWG08oInj"
      },
      "outputs": [],
      "source": [
        "mean = (0.5, 0.5, 0.5)\n",
        "std = (0.5, 0.5, 0.5)\n",
        "final_size = (224,224)\n",
        "image_augmentation = [\n",
        "  transforms.Compose(\n",
        "            [\n",
        "                transforms.Resize(final_size),\n",
        "                transforms.RandomHorizontalFlip(),\n",
        "                transforms.ToTensor(),\n",
        "                transforms.Normalize(mean=mean, std=std),\n",
        "            ]\n",
        "        ),\n",
        "  transforms.Compose(\n",
        "            [\n",
        "                transforms.Resize(final_size),\n",
        "                transforms.ColorJitter(\n",
        "                    brightness=0.5, contrast=0.7, saturation=0.7, hue=0.5\n",
        "                ),\n",
        "                transforms.ToTensor(),\n",
        "                transforms.Normalize(mean=mean, std=std),\n",
        "            ]\n",
        "        ),\n",
        "  transforms.Compose(\n",
        "            [\n",
        "                transforms.Resize(final_size),\n",
        "                transforms.RandomRotation(degrees=30),\n",
        "                transforms.ToTensor(),\n",
        "                transforms.Normalize(mean=mean, std=std),\n",
        "            ]\n",
        "        ),\n",
        "  transforms.Compose(\n",
        "            [\n",
        "                transforms.Resize(final_size),\n",
        "                transforms.RandomGrayscale(p=0.7),\n",
        "                transforms.ToTensor(),\n",
        "                transforms.Normalize(mean=mean, std=std),\n",
        "            ]\n",
        "        ),\n",
        "  transforms.Compose(\n",
        "            [\n",
        "                transforms.Resize(final_size),\n",
        "                transforms.ToTensor(),\n",
        "                transforms.RandomErasing(\n",
        "                    p=0.5, scale=(0.02, 0.33), ratio=(0.3, 3.3), value=\"random\"\n",
        "                ),\n",
        "                transforms.Normalize(mean=mean, std=std),\n",
        "            ]\n",
        "        ),\n",
        "  transforms.Compose(\n",
        "            [\n",
        "                transforms.Resize(final_size),\n",
        "                transforms.ToTensor(),\n",
        "                transforms.GaussianBlur(kernel_size=7),\n",
        "                transforms.Normalize(mean=mean, std=std),\n",
        "            ]\n",
        "        ),\n",
        "   transforms.Compose(\n",
        "            [\n",
        "                transforms.Resize(final_size),\n",
        "                transforms.ToTensor(),\n",
        "                transforms.RandomInvert(p=0.7),\n",
        "                transforms.Normalize(mean=mean, std=std),\n",
        "            ]\n",
        "        ),\n",
        "        transforms.Compose(\n",
        "            [\n",
        "                transforms.RandomResizedCrop(size=final_size),\n",
        "                transforms.ToTensor(),\n",
        "                transforms.Normalize(mean=mean, std=std),\n",
        "            ]\n",
        "        ),\n",
        "        transforms.Compose(\n",
        "            [\n",
        "                transforms.CenterCrop(size=(100, 100)),\n",
        "                transforms.Resize(final_size),\n",
        "                transforms.ToTensor(),\n",
        "                transforms.Normalize(mean=mean, std=std),\n",
        "            ]\n",
        "        ),\n",
        "        transforms.Compose(\n",
        "            [\n",
        "                transforms.RandomPerspective(\n",
        "                    distortion_scale=0.5,\n",
        "                    p=0.5,\n",
        "                    interpolation=transforms.InterpolationMode.BILINEAR,\n",
        "                ),\n",
        "                transforms.Resize(final_size),\n",
        "                transforms.ToTensor(),\n",
        "                transforms.Normalize(mean=mean, std=std),\n",
        "            ]\n",
        "        ),\n",
        "  transforms.Compose(\n",
        "            [\n",
        "                transforms.Resize(final_size),\n",
        "                transforms.ToTensor(),\n",
        "                transforms.Normalize(mean=mean, std=std)\n",
        "            ]\n",
        "        )\n",
        "\n",
        "\n",
        "]\n",
        "\n",
        "def get_train_test_split(train_size = 0.8):\n",
        "  labels = sorted(list(range(100)) * 10)\n",
        "  file_names = [str(f) + '.jpg' for f in list(range(10))*100]\n",
        "  data = pd.DataFrame(zip(labels,file_names), columns=['Target','File'])\n",
        "  all_samples = [i for i in range(data.shape[0])]\n",
        "  rn.shuffle(all_samples)\n",
        "  train_offset = int(train_size * len(all_samples))\n",
        "  train_samples = all_samples[:train_offset]\n",
        "  test_samples = all_samples[train_offset:]\n",
        "\n",
        "  train_samples = data.iloc[train_samples,:]\n",
        "  test_samples = data.iloc[test_samples,:]\n",
        "\n",
        "  train_samples.reset_index(drop=True, inplace=True)\n",
        "  test_samples.reset_index(drop=True, inplace=True)\n",
        "  return train_samples, test_samples\n",
        "\n",
        "\n",
        "default_transformation = transforms.Compose(\n",
        "    [\n",
        "        transforms.Resize(final_size),\n",
        "        transforms.ToTensor(),\n",
        "        #transforms.Normalize(mean=mean, std=std)\n",
        "    ]\n",
        ")\n",
        "\n",
        "train_samples, test_samples = get_train_test_split()\n",
        "train_data = ImageDataset(train_samples, tranformations = image_augmentation,\n",
        "                          augmentation=True, default_transformation=default_transformation)\n",
        "test_data = ImageDataset(test_samples, default_transformation=default_transformation)"
      ]
    },
    {
      "cell_type": "code",
      "execution_count": null,
      "metadata": {
        "colab": {
          "base_uri": "https://localhost:8080/"
        },
        "id": "WXztWhIs3lj_",
        "outputId": "8da519ad-58b2-4957-a770-c6d3be4612f5"
      },
      "outputs": [
        {
          "name": "stdout",
          "output_type": "stream",
          "text": [
            "Img=torch.Size([3, 224, 224]); Label=24\n",
            "-------------------------\n",
            "Img=torch.Size([3, 224, 224]); Label=24\n",
            "-------------------------\n",
            "Img=torch.Size([3, 224, 224]); Label=24\n",
            "-------------------------\n",
            "Img=torch.Size([3, 224, 224]); Label=24\n",
            "-------------------------\n",
            "Img=torch.Size([3, 224, 224]); Label=24\n",
            "-------------------------\n",
            "Img=torch.Size([3, 224, 224]); Label=24\n",
            "-------------------------\n",
            "Img=torch.Size([3, 224, 224]); Label=24\n",
            "-------------------------\n",
            "Img=torch.Size([3, 224, 224]); Label=24\n",
            "-------------------------\n",
            "Img=torch.Size([3, 224, 224]); Label=24\n",
            "-------------------------\n",
            "Img=torch.Size([3, 224, 224]); Label=24\n",
            "-------------------------\n",
            "Img=torch.Size([3, 224, 224]); Label=24\n",
            "-------------------------\n",
            "Img=torch.Size([3, 224, 224]); Label=24\n",
            "-------------------------\n"
          ]
        }
      ],
      "source": [
        "for i in range(0,len(train_data),800):\n",
        "  img, label = train_data.__getitem__(i)\n",
        "  print(f'Img={img.shape}; Label={label}')\n",
        "  print('-'*25)"
      ]
    },
    {
      "cell_type": "markdown",
      "metadata": {
        "id": "Wz0gtluhGrnJ"
      },
      "source": [
        "# Visualizations"
      ]
    },
    {
      "cell_type": "code",
      "execution_count": null,
      "metadata": {
        "colab": {
          "base_uri": "https://localhost:8080/",
          "height": 730
        },
        "id": "tEcZ_Z3M35Hc",
        "outputId": "8895fac4-f0cf-4c35-ce2c-648cb63154fb"
      },
      "outputs": [
        {
          "name": "stderr",
          "output_type": "stream",
          "text": [
            "WARNING:matplotlib.image:Clipping input data to the valid range for imshow with RGB data ([0..1] for floats or [0..255] for integers).\n",
            "WARNING:matplotlib.image:Clipping input data to the valid range for imshow with RGB data ([0..1] for floats or [0..255] for integers).\n",
            "WARNING:matplotlib.image:Clipping input data to the valid range for imshow with RGB data ([0..1] for floats or [0..255] for integers).\n",
            "WARNING:matplotlib.image:Clipping input data to the valid range for imshow with RGB data ([0..1] for floats or [0..255] for integers).\n",
            "WARNING:matplotlib.image:Clipping input data to the valid range for imshow with RGB data ([0..1] for floats or [0..255] for integers).\n",
            "WARNING:matplotlib.image:Clipping input data to the valid range for imshow with RGB data ([0..1] for floats or [0..255] for integers).\n",
            "WARNING:matplotlib.image:Clipping input data to the valid range for imshow with RGB data ([0..1] for floats or [0..255] for integers).\n"
          ]
        },
        {
          "name": "stdout",
          "output_type": "stream",
          "text": [
            "29\n",
            "29\n",
            "29\n",
            "29\n",
            "29\n",
            "29\n",
            "29\n"
          ]
        },
        {
          "name": "stderr",
          "output_type": "stream",
          "text": [
            "WARNING:matplotlib.image:Clipping input data to the valid range for imshow with RGB data ([0..1] for floats or [0..255] for integers).\n",
            "WARNING:matplotlib.image:Clipping input data to the valid range for imshow with RGB data ([0..1] for floats or [0..255] for integers).\n"
          ]
        },
        {
          "name": "stdout",
          "output_type": "stream",
          "text": [
            "29\n",
            "29\n",
            "29\n"
          ]
        },
        {
          "data": {
            "image/png": "[encoded data removed]",
            "text/plain": [
              "<Figure size 600x600 with 10 Axes>"
            ]
          },
          "metadata": {},
          "output_type": "display_data"
        }
      ],
      "source": [
        "# For matrix operations\n",
        "import numpy as np\n",
        "\n",
        "# Data visualizaton.\n",
        "import matplotlib.pyplot as plt\n",
        "from matplotlib import style\n",
        "import seaborn as sns\n",
        "import random as rn\n",
        "\n",
        "fig, ax = plt.subplots(2, 5)\n",
        "fig.set_size_inches(6, 6)\n",
        "\n",
        "index = rn.randint(0, len(train_samples))\n",
        "\n",
        "for i in range(2):\n",
        "    for j in range(5):\n",
        "        l=index\n",
        "        ax[i, j].imshow(np.transpose(train_data[l][0].cpu().numpy(), (1, 2, 0)), cmap='gray')\n",
        "        #ax[i, j].set_title(str(l))\n",
        "        ax[i, j].set_title(str(train_data[l][1]))\n",
        "        # Hide grid lines\n",
        "        ax[i, j].grid(False)\n",
        "        # Hide axes ticks\n",
        "        ax[i, j].set_xticks([])\n",
        "        ax[i, j].set_yticks([])\n",
        "        index += 800\n",
        "        print(train_data[l][1])\n",
        "\n",
        "\n",
        "plt.tight_layout()"
      ]
    },
    {
      "cell_type": "code",
      "execution_count": null,
      "metadata": {
        "id": "3KIhj0uIDHbA"
      },
      "outputs": [],
      "source": [
        "def plot_img(image):\n",
        "  plt.imshow(np.transpose(image.cpu().numpy(), (1, 2, 0)), cmap='gray')"
      ]
    },
    {
      "cell_type": "code",
      "execution_count": null,
      "metadata": {
        "colab": {
          "base_uri": "https://localhost:8080/",
          "height": 574
        },
        "id": "OYtour6t-qIc",
        "outputId": "d9d786ff-3db0-407d-97f6-7f7f93226bd7"
      },
      "outputs": [
        {
          "name": "stdout",
          "output_type": "stream",
          "text": [
            "61\n",
            "47\n",
            "81\n",
            "76\n",
            "86\n",
            "33\n",
            "31\n",
            "54\n",
            "83\n",
            "89\n"
          ]
        },
        {
          "data": {
            "image/png": "[encoded data removed]",
            "text/plain": [
              "<Figure size 600x600 with 10 Axes>"
            ]
          },
          "metadata": {},
          "output_type": "display_data"
        }
      ],
      "source": [
        "# For matrix operations\n",
        "import numpy as np\n",
        "\n",
        "# Data visualizaton.\n",
        "import matplotlib.pyplot as plt\n",
        "from matplotlib import style\n",
        "import seaborn as sns\n",
        "import random as rn\n",
        "\n",
        "fig, ax = plt.subplots(2, 5)\n",
        "fig.set_size_inches(6, 6)\n",
        "\n",
        "\n",
        "for i in range(2):\n",
        "    for j in range(5):\n",
        "        l=rn.randint(0, len(test_samples))\n",
        "        ax[i, j].imshow(np.transpose(test_data[l][0].cpu().numpy(), (1, 2, 0)), cmap='gray')\n",
        "        ax[i, j].set_title('Label: ' + str(test_data[l][1]))\n",
        "        # Hide grid lines\n",
        "        ax[i, j].grid(False)\n",
        "        # Hide axes ticks\n",
        "        ax[i, j].set_xticks([])\n",
        "        ax[i, j].set_yticks([])\n",
        "        print(test_data[l][1])\n",
        "\n",
        "\n",
        "plt.tight_layout()"
      ]
    },
    {
      "cell_type": "markdown",
      "metadata": {
        "id": "pzdQX0KeGwGc"
      },
      "source": [
        "# Training Loop"
      ]
    },
    {
      "cell_type": "code",
      "execution_count": 9,
      "metadata": {
        "id": "C1IGaCqhoKM1"
      },
      "outputs": [],
      "source": [
        "from tqdm import tqdm\n",
        "import gc\n",
        "\n",
        "def cleanup(model):\n",
        "  del model\n",
        "  gc.collect()\n",
        "  torch.cuda.empty_cache()\n",
        "\n",
        "\n",
        "\n",
        "\n",
        "\n",
        "\n",
        "\n",
        "def training_loop(model, train_data, test_data, b_size = 32,\n",
        "                  num_epochs = 20, model_name = 'model1'):\n",
        "\n",
        "  train_loader = DataLoader(train_data, batch_size = b_size, shuffle=True)\n",
        "  test_loader = DataLoader(test_data, batch_size = b_size, shuffle = False)\n",
        "\n",
        "  optimizer = optim.Adam(model.parameters(), lr=0.001)\n",
        "  criterion = nn.CrossEntropyLoss()\n",
        "\n",
        "  # Function to calculate accuracy\n",
        "  def calculate_accuracy(loader, model,pbar=None):\n",
        "      model.eval()\n",
        "      correct = 0\n",
        "      total = 0\n",
        "\n",
        "      with torch.no_grad():\n",
        "          for data in loader:\n",
        "              images, labels = data\n",
        "              images, labels = images.to(device), labels.to(device)\n",
        "              outputs = model(images)\n",
        "              _, predicted = torch.max(outputs.data, 1)\n",
        "              total += labels.size(0)\n",
        "              correct += (predicted == labels.squeeze()).sum().item()\n",
        "              if pbar:\n",
        "                pbar.update(1)\n",
        "      return 100 * correct / total\n",
        "\n",
        "\n",
        "  # Training the network\n",
        "  train_losses, test_losses = [], []\n",
        "  train_acc, test_acc = [], []\n",
        "  best_acc = 0\n",
        "  for epoch in range(num_epochs):\n",
        "      model.train()\n",
        "      running_loss = 0.0\n",
        "      print('Training #',epoch)\n",
        "      with tqdm(total=math.ceil(len(train_data)/b_size)) as pbar:\n",
        "        for i, data in enumerate(train_loader, 0):\n",
        "            #print(f'{i}', end = '  ')\n",
        "            inputs, labels = data\n",
        "            inputs, labels = inputs.to(device), labels.to(device)\n",
        "            optimizer.zero_grad()\n",
        "            outputs = model(inputs)\n",
        "            #print(outputs)\n",
        "            #print('\\n')\n",
        "            #print(labels)\n",
        "            loss = criterion(outputs, labels.squeeze())\n",
        "            loss.backward()\n",
        "            optimizer.step()\n",
        "            running_loss += loss.item()\n",
        "            pbar.update(1)\n",
        "\n",
        "\n",
        "      train_loss = running_loss / len(train_loader)\n",
        "      train_losses.append(train_loss)\n",
        "      print('Computing Train Accuracy...')\n",
        "      with tqdm(total=math.ceil(len(train_data)/b_size)) as pbar:\n",
        "        train_accuracy = calculate_accuracy(train_loader, model, pbar)\n",
        "      train_acc.append(train_accuracy)\n",
        "\n",
        "      test_loss = 0.0\n",
        "      print('Testing #',epoch)\n",
        "      model.eval()\n",
        "      with torch.no_grad():\n",
        "        with tqdm(total=math.ceil(len(test_data)/b_size)) as pbar:\n",
        "          for data in test_loader:\n",
        "              images, labels = data\n",
        "              images, labels = images.to(device), labels.to(device)\n",
        "              outputs = model(images)\n",
        "              loss = criterion(outputs, labels.squeeze())\n",
        "              test_loss += loss.item()\n",
        "              pbar.update(1)\n",
        "\n",
        "      test_loss /= len(test_loader)\n",
        "      test_losses.append(test_loss)\n",
        "      print('Computing Test Accuracy...')\n",
        "      with tqdm(total=math.ceil(len(test_data)/b_size)) as pbar:\n",
        "        test_accuracy = calculate_accuracy(test_loader, model, pbar)\n",
        "      test_acc.append(test_accuracy)\n",
        "\n",
        "\n",
        "      print(f'\\nEpoch {epoch+1}/{num_epochs}, Train Loss: {train_loss:.4f}, Train Acc: {train_accuracy:.2f}%, Test Loss: {test_loss:.4f}, Test Acc: {test_accuracy:.2f}% \\n')\n",
        "      print('_'*30)\n",
        "      print()\n",
        "\n",
        "      if test_accuracy > best_acc:\n",
        "        torch.save(model.state_dict(), f'{model_name}-{int(test_accuracy)}.pth')\n",
        "        best_acc = test_accuracy\n",
        "        print('*'*30)\n",
        "        print(f'\\nBest Epoch so far: {epoch + 1}, Train Loss: {train_loss:.4f}, Train Acc: {train_accuracy:.2f}%, Test Loss: {test_loss:.4f}, Test Acc: {test_accuracy:.2f}% \\n')\n",
        "        print('*'*30)\n",
        "        print('\\n')\n",
        "  return train_acc, train_losses, test_acc, test_losses\n",
        "\n",
        "\n"
      ]
    },
    {
      "cell_type": "markdown",
      "metadata": {
        "id": "UNsdht7GsAKe"
      },
      "source": []
    },
    {
      "cell_type": "code",
      "execution_count": 10,
      "metadata": {
        "id": "0QoCDdhMqTX0"
      },
      "outputs": [],
      "source": [
        "class ModelHead(nn.Module):\n",
        "    def __init__(self, in_features, num_classes=100):\n",
        "        super(ModelHead, self).__init__()\n",
        "        self.custom_classifier = nn.Sequential(\n",
        "          nn.Linear(in_features, 1024),\n",
        "          nn.ReLU(inplace=True),\n",
        "          nn.Dropout(0.5),\n",
        "          nn.Linear(1024, num_classes),\n",
        "        )\n",
        "\n",
        "    def forward(self, x):\n",
        "        return self.custom_classifier(x)"
      ]
    },
    {
      "cell_type": "markdown",
      "metadata": {
        "id": "gs0on47Gp203"
      },
      "source": [
        "# ResNet 152"
      ]
    },
    {
      "cell_type": "code",
      "execution_count": null,
      "metadata": {
        "colab": {
          "base_uri": "https://localhost:8080/",
          "height": 408
        },
        "id": "6mNJhNi0pZCN",
        "outputId": "bc0b0d54-f7c6-4ef6-a0e1-1c8b35dabd97"
      },
      "outputs": [
        {
          "name": "stdout",
          "output_type": "stream",
          "text": [
            "Training # 0\n"
          ]
        },
        {
          "name": "stderr",
          "output_type": "stream",
          "text": [
            "  5%|▍         | 27/585 [00:09<03:10,  2.93it/s]\n"
          ]
        },
        {
          "ename": "KeyboardInterrupt",
          "evalue": "",
          "output_type": "error",
          "traceback": [
            "\u001b[0;31m---------------------------------------------------------------------------\u001b[0m",
            "\u001b[0;31mKeyboardInterrupt\u001b[0m                         Traceback (most recent call last)",
            "\u001b[0;32m<ipython-input-30-78c357e61e0e>\u001b[0m in \u001b[0;36m<cell line: 43>\u001b[0;34m()\u001b[0m\n\u001b[1;32m     41\u001b[0m \u001b[0;34m\u001b[0m\u001b[0m\n\u001b[1;32m     42\u001b[0m \u001b[0;34m\u001b[0m\u001b[0m\n\u001b[0;32m---> 43\u001b[0;31m training_loop(model, train_samples, test_samples, num_epochs=10, b_size=16, \n\u001b[0m\u001b[1;32m     44\u001b[0m               model_name='resnet152')\n",
            "\u001b[0;32m<ipython-input-4-af8c81153dad>\u001b[0m in \u001b[0;36mtraining_loop\u001b[0;34m(model, train_samples, test_samples, b_size, num_epochs, model_name)\u001b[0m\n\u001b[1;32m     53\u001b[0m             \u001b[0;31m#print(labels)\u001b[0m\u001b[0;34m\u001b[0m\u001b[0;34m\u001b[0m\u001b[0m\n\u001b[1;32m     54\u001b[0m             \u001b[0mloss\u001b[0m \u001b[0;34m=\u001b[0m \u001b[0mcriterion\u001b[0m\u001b[0;34m(\u001b[0m\u001b[0moutputs\u001b[0m\u001b[0;34m.\u001b[0m\u001b[0mcpu\u001b[0m\u001b[0;34m(\u001b[0m\u001b[0;34m)\u001b[0m\u001b[0;34m,\u001b[0m \u001b[0mlabels\u001b[0m\u001b[0;34m)\u001b[0m\u001b[0;34m\u001b[0m\u001b[0;34m\u001b[0m\u001b[0m\n\u001b[0;32m---> 55\u001b[0;31m             \u001b[0mloss\u001b[0m\u001b[0;34m.\u001b[0m\u001b[0mbackward\u001b[0m\u001b[0;34m(\u001b[0m\u001b[0;34m)\u001b[0m\u001b[0;34m\u001b[0m\u001b[0;34m\u001b[0m\u001b[0m\n\u001b[0m\u001b[1;32m     56\u001b[0m             \u001b[0moptimizer\u001b[0m\u001b[0;34m.\u001b[0m\u001b[0mstep\u001b[0m\u001b[0;34m(\u001b[0m\u001b[0;34m)\u001b[0m\u001b[0;34m\u001b[0m\u001b[0;34m\u001b[0m\u001b[0m\n\u001b[1;32m     57\u001b[0m             \u001b[0mrunning_loss\u001b[0m \u001b[0;34m+=\u001b[0m \u001b[0mloss\u001b[0m\u001b[0;34m.\u001b[0m\u001b[0mitem\u001b[0m\u001b[0;34m(\u001b[0m\u001b[0;34m)\u001b[0m\u001b[0;34m\u001b[0m\u001b[0;34m\u001b[0m\u001b[0m\n",
            "\u001b[0;32m/usr/local/lib/python3.10/dist-packages/torch/_tensor.py\u001b[0m in \u001b[0;36mbackward\u001b[0;34m(self, gradient, retain_graph, create_graph, inputs)\u001b[0m\n\u001b[1;32m    490\u001b[0m                 \u001b[0minputs\u001b[0m\u001b[0;34m=\u001b[0m\u001b[0minputs\u001b[0m\u001b[0;34m,\u001b[0m\u001b[0;34m\u001b[0m\u001b[0;34m\u001b[0m\u001b[0m\n\u001b[1;32m    491\u001b[0m             )\n\u001b[0;32m--> 492\u001b[0;31m         torch.autograd.backward(\n\u001b[0m\u001b[1;32m    493\u001b[0m             \u001b[0mself\u001b[0m\u001b[0;34m,\u001b[0m \u001b[0mgradient\u001b[0m\u001b[0;34m,\u001b[0m \u001b[0mretain_graph\u001b[0m\u001b[0;34m,\u001b[0m \u001b[0mcreate_graph\u001b[0m\u001b[0;34m,\u001b[0m \u001b[0minputs\u001b[0m\u001b[0;34m=\u001b[0m\u001b[0minputs\u001b[0m\u001b[0;34m\u001b[0m\u001b[0;34m\u001b[0m\u001b[0m\n\u001b[1;32m    494\u001b[0m         )\n",
            "\u001b[0;32m/usr/local/lib/python3.10/dist-packages/torch/autograd/__init__.py\u001b[0m in \u001b[0;36mbackward\u001b[0;34m(tensors, grad_tensors, retain_graph, create_graph, grad_variables, inputs)\u001b[0m\n\u001b[1;32m    249\u001b[0m     \u001b[0;31m# some Python versions print out the first line of a multi-line function\u001b[0m\u001b[0;34m\u001b[0m\u001b[0;34m\u001b[0m\u001b[0m\n\u001b[1;32m    250\u001b[0m     \u001b[0;31m# calls in the traceback and some print out the last line\u001b[0m\u001b[0;34m\u001b[0m\u001b[0;34m\u001b[0m\u001b[0m\n\u001b[0;32m--> 251\u001b[0;31m     Variable._execution_engine.run_backward(  # Calls into the C++ engine to run the backward pass\n\u001b[0m\u001b[1;32m    252\u001b[0m         \u001b[0mtensors\u001b[0m\u001b[0;34m,\u001b[0m\u001b[0;34m\u001b[0m\u001b[0;34m\u001b[0m\u001b[0m\n\u001b[1;32m    253\u001b[0m         \u001b[0mgrad_tensors_\u001b[0m\u001b[0;34m,\u001b[0m\u001b[0;34m\u001b[0m\u001b[0;34m\u001b[0m\u001b[0m\n",
            "\u001b[0;31mKeyboardInterrupt\u001b[0m: "
          ]
        }
      ],
      "source": [
        "model = models.resnet152(weights='IMAGENET1K_V2')\n",
        "train_samples, test_samples = get_train_test_split(0.85)\n",
        "train_data = ImageDataset(train_samples, tranformations = image_augmentation,\n",
        "                          augmentation=True, default_transformation=default_transformation)\n",
        "test_data = ImageDataset(test_samples, default_transformation=default_transformation)\n",
        "\n",
        "for para in model.parameters():\n",
        "    para.requires_grad = False\n",
        "\n",
        "num_features = model.fc.in_features\n",
        "model.fc = ModelHead(num_features)\n",
        "model.to(get_default_device())\n",
        "\n",
        "\n",
        "#unfreeze fc\n",
        "for param in model.fc.parameters():\n",
        "    param.requires_grad = True\n",
        "\n",
        "#unfreeze layer 4\n",
        "for param in model.layer4.parameters():\n",
        "    param.requires_grad = True\n",
        "\n",
        "#unfreeze layer 3\n",
        "for param in model.layer3.parameters():\n",
        "    param.requires_grad = True\n",
        "\n",
        "#unfreeze layer 2\n",
        "for param in model.layer2.parameters():\n",
        "    param.requires_grad = True\n",
        "\n",
        "#unfreeze layer 1\n",
        "for param in model.layer1.parameters():\n",
        "    param.requires_grad = True\n",
        "\n",
        "#unfreeze bn1\n",
        "for param in model.bn1.parameters():\n",
        "  param.requires_grad = True\n",
        "\n",
        "for param in model.conv1.parameters():\n",
        "  param.requires_grad = True\n",
        "\n",
        "\n",
        "training_loop(model, train_samples, test_samples, num_epochs=10, b_size=16,\n",
        "              model_name='resnet152')\n"
      ]
    },
    {
      "cell_type": "code",
      "execution_count": null,
      "metadata": {
        "id": "zCZxoE31qdVc"
      },
      "outputs": [],
      "source": [
        "cleanup(model)"
      ]
    },
    {
      "cell_type": "markdown",
      "metadata": {
        "id": "qe3oVOkXvm-a"
      },
      "source": [
        "# ViT"
      ]
    },
    {
      "cell_type": "markdown",
      "metadata": {
        "id": "In7U66SRHHzz"
      },
      "source": [
        "## Unfreeze Layers 23 Onwards"
      ]
    },
    {
      "cell_type": "code",
      "execution_count": null,
      "metadata": {
        "colab": {
          "base_uri": "https://localhost:8080/",
          "height": 1000
        },
        "id": "G3meY74ot_yD",
        "outputId": "ba7f5f90-82f5-499b-c6d1-f23509a74251"
      },
      "outputs": [
        {
          "name": "stdout",
          "output_type": "stream",
          "text": [
            "Unfrozen encoder.layers.encoder_layer_23.ln_1.weight\n",
            "Unfrozen encoder.layers.encoder_layer_23.ln_1.bias\n",
            "Unfrozen encoder.layers.encoder_layer_23.self_attention.in_proj_weight\n",
            "Unfrozen encoder.layers.encoder_layer_23.self_attention.in_proj_bias\n",
            "Unfrozen encoder.layers.encoder_layer_23.self_attention.out_proj.weight\n",
            "Unfrozen encoder.layers.encoder_layer_23.self_attention.out_proj.bias\n",
            "Unfrozen encoder.layers.encoder_layer_23.ln_2.weight\n",
            "Unfrozen encoder.layers.encoder_layer_23.ln_2.bias\n",
            "Unfrozen encoder.layers.encoder_layer_23.mlp.0.weight\n",
            "Unfrozen encoder.layers.encoder_layer_23.mlp.0.bias\n",
            "Unfrozen encoder.layers.encoder_layer_23.mlp.3.weight\n",
            "Unfrozen encoder.layers.encoder_layer_23.mlp.3.bias\n",
            "Unfrozen encoder.ln.weight\n",
            "Unfrozen encoder.ln.bias\n",
            "Unfrozen heads.head.custom_classifier.0.weight\n",
            "Unfrozen heads.head.custom_classifier.0.bias\n",
            "Unfrozen heads.head.custom_classifier.3.weight\n",
            "Unfrozen heads.head.custom_classifier.3.bias\n",
            "Training # 0\n"
          ]
        },
        {
          "name": "stderr",
          "output_type": "stream",
          "text": [
            "100%|██████████| 585/585 [07:02<00:00,  1.38it/s]\n"
          ]
        },
        {
          "name": "stdout",
          "output_type": "stream",
          "text": [
            "Computing Train Accuracy...\n"
          ]
        },
        {
          "name": "stderr",
          "output_type": "stream",
          "text": [
            "100%|██████████| 585/585 [04:30<00:00,  2.17it/s]\n"
          ]
        },
        {
          "name": "stdout",
          "output_type": "stream",
          "text": [
            "Testing # 0\n"
          ]
        },
        {
          "name": "stderr",
          "output_type": "stream",
          "text": [
            "100%|██████████| 10/10 [00:04<00:00,  2.34it/s]\n"
          ]
        },
        {
          "name": "stdout",
          "output_type": "stream",
          "text": [
            "Computing Test Accuracy...\n"
          ]
        },
        {
          "name": "stderr",
          "output_type": "stream",
          "text": [
            "100%|██████████| 10/10 [00:04<00:00,  2.33it/s]\n"
          ]
        },
        {
          "name": "stdout",
          "output_type": "stream",
          "text": [
            "\n",
            "Epoch 1/20, Train Loss: 1.5049, Train Acc: 77.79%, Test Loss: 0.9806, Test Acc: 73.33% \n",
            "\n",
            "______________________________\n",
            "\n",
            "******************************\n",
            "\n",
            "Best Epoch so far: 1, Train Loss: 1.5049, Train Acc: 77.79%, Test Loss: 0.9806, Test Acc: 73.33% \n",
            "\n",
            "******************************\n",
            "\n",
            "\n",
            "Training # 1\n"
          ]
        },
        {
          "name": "stderr",
          "output_type": "stream",
          "text": [
            "100%|██████████| 585/585 [07:06<00:00,  1.37it/s]\n"
          ]
        },
        {
          "name": "stdout",
          "output_type": "stream",
          "text": [
            "Computing Train Accuracy...\n"
          ]
        },
        {
          "name": "stderr",
          "output_type": "stream",
          "text": [
            "100%|██████████| 585/585 [04:30<00:00,  2.16it/s]\n"
          ]
        },
        {
          "name": "stdout",
          "output_type": "stream",
          "text": [
            "Testing # 1\n"
          ]
        },
        {
          "name": "stderr",
          "output_type": "stream",
          "text": [
            "100%|██████████| 10/10 [00:04<00:00,  2.38it/s]\n"
          ]
        },
        {
          "name": "stdout",
          "output_type": "stream",
          "text": [
            "Computing Test Accuracy...\n"
          ]
        },
        {
          "name": "stderr",
          "output_type": "stream",
          "text": [
            "100%|██████████| 10/10 [00:04<00:00,  2.36it/s]\n"
          ]
        },
        {
          "name": "stdout",
          "output_type": "stream",
          "text": [
            "\n",
            "Epoch 2/20, Train Loss: 0.7112, Train Acc: 86.28%, Test Loss: 0.9195, Test Acc: 74.67% \n",
            "\n",
            "______________________________\n",
            "\n",
            "******************************\n",
            "\n",
            "Best Epoch so far: 2, Train Loss: 0.7112, Train Acc: 86.28%, Test Loss: 0.9195, Test Acc: 74.67% \n",
            "\n",
            "******************************\n",
            "\n",
            "\n",
            "Training # 2\n"
          ]
        },
        {
          "name": "stderr",
          "output_type": "stream",
          "text": [
            "100%|██████████| 585/585 [07:03<00:00,  1.38it/s]\n"
          ]
        },
        {
          "name": "stdout",
          "output_type": "stream",
          "text": [
            "Computing Train Accuracy...\n"
          ]
        },
        {
          "name": "stderr",
          "output_type": "stream",
          "text": [
            "100%|██████████| 585/585 [04:31<00:00,  2.16it/s]\n"
          ]
        },
        {
          "name": "stdout",
          "output_type": "stream",
          "text": [
            "Testing # 2\n"
          ]
        },
        {
          "name": "stderr",
          "output_type": "stream",
          "text": [
            "100%|██████████| 10/10 [00:04<00:00,  2.36it/s]\n"
          ]
        },
        {
          "name": "stdout",
          "output_type": "stream",
          "text": [
            "Computing Test Accuracy...\n"
          ]
        },
        {
          "name": "stderr",
          "output_type": "stream",
          "text": [
            "100%|██████████| 10/10 [00:04<00:00,  2.37it/s]\n"
          ]
        },
        {
          "name": "stdout",
          "output_type": "stream",
          "text": [
            "\n",
            "Epoch 3/20, Train Loss: 0.5537, Train Acc: 89.22%, Test Loss: 1.0538, Test Acc: 70.67% \n",
            "\n",
            "______________________________\n",
            "\n",
            "Training # 3\n"
          ]
        },
        {
          "name": "stderr",
          "output_type": "stream",
          "text": [
            "100%|██████████| 585/585 [07:04<00:00,  1.38it/s]\n"
          ]
        },
        {
          "name": "stdout",
          "output_type": "stream",
          "text": [
            "Computing Train Accuracy...\n"
          ]
        },
        {
          "name": "stderr",
          "output_type": "stream",
          "text": [
            "100%|██████████| 585/585 [04:28<00:00,  2.18it/s]\n"
          ]
        },
        {
          "name": "stdout",
          "output_type": "stream",
          "text": [
            "Testing # 3\n"
          ]
        },
        {
          "name": "stderr",
          "output_type": "stream",
          "text": [
            "100%|██████████| 10/10 [00:04<00:00,  2.36it/s]\n"
          ]
        },
        {
          "name": "stdout",
          "output_type": "stream",
          "text": [
            "Computing Test Accuracy...\n"
          ]
        },
        {
          "name": "stderr",
          "output_type": "stream",
          "text": [
            "100%|██████████| 10/10 [00:04<00:00,  2.37it/s]\n"
          ]
        },
        {
          "name": "stdout",
          "output_type": "stream",
          "text": [
            "\n",
            "Epoch 4/20, Train Loss: 0.4233, Train Acc: 93.17%, Test Loss: 1.2485, Test Acc: 76.00% \n",
            "\n",
            "______________________________\n",
            "\n",
            "******************************\n",
            "\n",
            "Best Epoch so far: 4, Train Loss: 0.4233, Train Acc: 93.17%, Test Loss: 1.2485, Test Acc: 76.00% \n",
            "\n",
            "******************************\n",
            "\n",
            "\n",
            "Training # 4\n"
          ]
        },
        {
          "name": "stderr",
          "output_type": "stream",
          "text": [
            "100%|██████████| 585/585 [07:02<00:00,  1.38it/s]\n"
          ]
        },
        {
          "name": "stdout",
          "output_type": "stream",
          "text": [
            "Computing Train Accuracy...\n"
          ]
        },
        {
          "name": "stderr",
          "output_type": "stream",
          "text": [
            "100%|██████████| 585/585 [04:29<00:00,  2.17it/s]\n"
          ]
        },
        {
          "name": "stdout",
          "output_type": "stream",
          "text": [
            "Testing # 4\n"
          ]
        },
        {
          "name": "stderr",
          "output_type": "stream",
          "text": [
            "100%|██████████| 10/10 [00:04<00:00,  2.38it/s]\n"
          ]
        },
        {
          "name": "stdout",
          "output_type": "stream",
          "text": [
            "Computing Test Accuracy...\n"
          ]
        },
        {
          "name": "stderr",
          "output_type": "stream",
          "text": [
            "100%|██████████| 10/10 [00:04<00:00,  2.38it/s]\n"
          ]
        },
        {
          "name": "stdout",
          "output_type": "stream",
          "text": [
            "\n",
            "Epoch 5/20, Train Loss: 0.3895, Train Acc: 91.76%, Test Loss: 1.1240, Test Acc: 72.67% \n",
            "\n",
            "______________________________\n",
            "\n",
            "Training # 5\n"
          ]
        },
        {
          "name": "stderr",
          "output_type": "stream",
          "text": [
            "100%|██████████| 585/585 [07:01<00:00,  1.39it/s]\n"
          ]
        },
        {
          "name": "stdout",
          "output_type": "stream",
          "text": [
            "Computing Train Accuracy...\n"
          ]
        },
        {
          "name": "stderr",
          "output_type": "stream",
          "text": [
            "100%|██████████| 585/585 [04:28<00:00,  2.18it/s]\n"
          ]
        },
        {
          "name": "stdout",
          "output_type": "stream",
          "text": [
            "Testing # 5\n"
          ]
        },
        {
          "name": "stderr",
          "output_type": "stream",
          "text": [
            "100%|██████████| 10/10 [00:04<00:00,  2.38it/s]\n"
          ]
        },
        {
          "name": "stdout",
          "output_type": "stream",
          "text": [
            "Computing Test Accuracy...\n"
          ]
        },
        {
          "name": "stderr",
          "output_type": "stream",
          "text": [
            "100%|██████████| 10/10 [00:04<00:00,  2.37it/s]\n"
          ]
        },
        {
          "name": "stdout",
          "output_type": "stream",
          "text": [
            "\n",
            "Epoch 6/20, Train Loss: 0.3129, Train Acc: 94.21%, Test Loss: 1.1985, Test Acc: 72.67% \n",
            "\n",
            "______________________________\n",
            "\n",
            "Training # 6\n"
          ]
        },
        {
          "name": "stderr",
          "output_type": "stream",
          "text": [
            "100%|██████████| 585/585 [07:01<00:00,  1.39it/s]\n"
          ]
        },
        {
          "name": "stdout",
          "output_type": "stream",
          "text": [
            "Computing Train Accuracy...\n"
          ]
        },
        {
          "name": "stderr",
          "output_type": "stream",
          "text": [
            "100%|██████████| 585/585 [04:29<00:00,  2.17it/s]\n"
          ]
        },
        {
          "name": "stdout",
          "output_type": "stream",
          "text": [
            "Testing # 6\n"
          ]
        },
        {
          "name": "stderr",
          "output_type": "stream",
          "text": [
            "100%|██████████| 10/10 [00:04<00:00,  2.37it/s]\n"
          ]
        },
        {
          "name": "stdout",
          "output_type": "stream",
          "text": [
            "Computing Test Accuracy...\n"
          ]
        },
        {
          "name": "stderr",
          "output_type": "stream",
          "text": [
            "100%|██████████| 10/10 [00:04<00:00,  2.37it/s]\n"
          ]
        },
        {
          "name": "stdout",
          "output_type": "stream",
          "text": [
            "\n",
            "Epoch 7/20, Train Loss: 0.2749, Train Acc: 95.47%, Test Loss: 1.2202, Test Acc: 74.00% \n",
            "\n",
            "______________________________\n",
            "\n",
            "Training # 7\n"
          ]
        },
        {
          "name": "stderr",
          "output_type": "stream",
          "text": [
            "100%|██████████| 585/585 [07:02<00:00,  1.38it/s]\n"
          ]
        },
        {
          "name": "stdout",
          "output_type": "stream",
          "text": [
            "Computing Train Accuracy...\n"
          ]
        },
        {
          "name": "stderr",
          "output_type": "stream",
          "text": [
            "100%|██████████| 585/585 [04:26<00:00,  2.19it/s]\n"
          ]
        },
        {
          "name": "stdout",
          "output_type": "stream",
          "text": [
            "Testing # 7\n"
          ]
        },
        {
          "name": "stderr",
          "output_type": "stream",
          "text": [
            "100%|██████████| 10/10 [00:04<00:00,  2.40it/s]\n"
          ]
        },
        {
          "name": "stdout",
          "output_type": "stream",
          "text": [
            "Computing Test Accuracy...\n"
          ]
        },
        {
          "name": "stderr",
          "output_type": "stream",
          "text": [
            "100%|██████████| 10/10 [00:04<00:00,  2.41it/s]\n"
          ]
        },
        {
          "name": "stdout",
          "output_type": "stream",
          "text": [
            "\n",
            "Epoch 8/20, Train Loss: 0.2776, Train Acc: 95.72%, Test Loss: 1.3112, Test Acc: 73.33% \n",
            "\n",
            "______________________________\n",
            "\n",
            "Training # 8\n"
          ]
        },
        {
          "name": "stderr",
          "output_type": "stream",
          "text": [
            "100%|██████████| 585/585 [07:00<00:00,  1.39it/s]\n"
          ]
        },
        {
          "name": "stdout",
          "output_type": "stream",
          "text": [
            "Computing Train Accuracy...\n"
          ]
        },
        {
          "name": "stderr",
          "output_type": "stream",
          "text": [
            "100%|██████████| 585/585 [04:26<00:00,  2.20it/s]\n"
          ]
        },
        {
          "name": "stdout",
          "output_type": "stream",
          "text": [
            "Testing # 8\n"
          ]
        },
        {
          "name": "stderr",
          "output_type": "stream",
          "text": [
            "100%|██████████| 10/10 [00:04<00:00,  2.36it/s]\n"
          ]
        },
        {
          "name": "stdout",
          "output_type": "stream",
          "text": [
            "Computing Test Accuracy...\n"
          ]
        },
        {
          "name": "stderr",
          "output_type": "stream",
          "text": [
            "100%|██████████| 10/10 [00:04<00:00,  2.41it/s]\n"
          ]
        },
        {
          "name": "stdout",
          "output_type": "stream",
          "text": [
            "\n",
            "Epoch 9/20, Train Loss: 0.2394, Train Acc: 95.75%, Test Loss: 1.3183, Test Acc: 77.33% \n",
            "\n",
            "______________________________\n",
            "\n",
            "******************************\n",
            "\n",
            "Best Epoch so far: 9, Train Loss: 0.2394, Train Acc: 95.75%, Test Loss: 1.3183, Test Acc: 77.33% \n",
            "\n",
            "******************************\n",
            "\n",
            "\n",
            "Training # 9\n"
          ]
        },
        {
          "name": "stderr",
          "output_type": "stream",
          "text": [
            "100%|██████████| 585/585 [07:01<00:00,  1.39it/s]\n"
          ]
        },
        {
          "name": "stdout",
          "output_type": "stream",
          "text": [
            "Computing Train Accuracy...\n"
          ]
        },
        {
          "name": "stderr",
          "output_type": "stream",
          "text": [
            "100%|██████████| 585/585 [04:29<00:00,  2.17it/s]\n"
          ]
        },
        {
          "name": "stdout",
          "output_type": "stream",
          "text": [
            "Testing # 9\n"
          ]
        },
        {
          "name": "stderr",
          "output_type": "stream",
          "text": [
            "100%|██████████| 10/10 [00:04<00:00,  2.38it/s]\n"
          ]
        },
        {
          "name": "stdout",
          "output_type": "stream",
          "text": [
            "Computing Test Accuracy...\n"
          ]
        },
        {
          "name": "stderr",
          "output_type": "stream",
          "text": [
            "100%|██████████| 10/10 [00:04<00:00,  2.35it/s]\n"
          ]
        },
        {
          "name": "stdout",
          "output_type": "stream",
          "text": [
            "\n",
            "Epoch 10/20, Train Loss: 0.2359, Train Acc: 96.80%, Test Loss: 1.6011, Test Acc: 73.33% \n",
            "\n",
            "______________________________\n",
            "\n",
            "Training # 10\n"
          ]
        },
        {
          "name": "stderr",
          "output_type": "stream",
          "text": [
            "100%|██████████| 585/585 [07:01<00:00,  1.39it/s]\n"
          ]
        },
        {
          "name": "stdout",
          "output_type": "stream",
          "text": [
            "Computing Train Accuracy...\n"
          ]
        },
        {
          "name": "stderr",
          "output_type": "stream",
          "text": [
            " 79%|███████▊  | 460/585 [03:32<00:57,  2.16it/s]\n"
          ]
        },
        {
          "ename": "KeyboardInterrupt",
          "evalue": "",
          "output_type": "error",
          "traceback": [
            "\u001b[0;31m---------------------------------------------------------------------------\u001b[0m",
            "\u001b[0;31mKeyboardInterrupt\u001b[0m                         Traceback (most recent call last)",
            "\u001b[0;32m<ipython-input-34-c34df5c4efc5>\u001b[0m in \u001b[0;36m<cell line: 35>\u001b[0;34m()\u001b[0m\n\u001b[1;32m     33\u001b[0m     \u001b[0mprint\u001b[0m\u001b[0;34m(\u001b[0m\u001b[0;34m'Unfrozen'\u001b[0m\u001b[0;34m,\u001b[0m\u001b[0mname\u001b[0m\u001b[0;34m)\u001b[0m\u001b[0;34m\u001b[0m\u001b[0;34m\u001b[0m\u001b[0m\n\u001b[1;32m     34\u001b[0m \u001b[0;34m\u001b[0m\u001b[0m\n\u001b[0;32m---> 35\u001b[0;31m training_loop(model, train_data, test_data, num_epochs=20, b_size=16,\n\u001b[0m\u001b[1;32m     36\u001b[0m              model_name='vit-l-16-unfreeze23')\n",
            "\u001b[0;32m<ipython-input-11-7dcf4ff16c73>\u001b[0m in \u001b[0;36mtraining_loop\u001b[0;34m(model, train_data, test_data, b_size, num_epochs, model_name)\u001b[0m\n\u001b[1;32m     70\u001b[0m       \u001b[0mprint\u001b[0m\u001b[0;34m(\u001b[0m\u001b[0;34m'Computing Train Accuracy...'\u001b[0m\u001b[0;34m)\u001b[0m\u001b[0;34m\u001b[0m\u001b[0;34m\u001b[0m\u001b[0m\n\u001b[1;32m     71\u001b[0m       \u001b[0;32mwith\u001b[0m \u001b[0mtqdm\u001b[0m\u001b[0;34m(\u001b[0m\u001b[0mtotal\u001b[0m\u001b[0;34m=\u001b[0m\u001b[0mmath\u001b[0m\u001b[0;34m.\u001b[0m\u001b[0mceil\u001b[0m\u001b[0;34m(\u001b[0m\u001b[0mlen\u001b[0m\u001b[0;34m(\u001b[0m\u001b[0mtrain_data\u001b[0m\u001b[0;34m)\u001b[0m\u001b[0;34m/\u001b[0m\u001b[0mb_size\u001b[0m\u001b[0;34m)\u001b[0m\u001b[0;34m)\u001b[0m \u001b[0;32mas\u001b[0m \u001b[0mpbar\u001b[0m\u001b[0;34m:\u001b[0m\u001b[0;34m\u001b[0m\u001b[0;34m\u001b[0m\u001b[0m\n\u001b[0;32m---> 72\u001b[0;31m         \u001b[0mtrain_accuracy\u001b[0m \u001b[0;34m=\u001b[0m \u001b[0mcalculate_accuracy\u001b[0m\u001b[0;34m(\u001b[0m\u001b[0mtrain_loader\u001b[0m\u001b[0;34m,\u001b[0m \u001b[0mmodel\u001b[0m\u001b[0;34m,\u001b[0m \u001b[0mpbar\u001b[0m\u001b[0;34m)\u001b[0m\u001b[0;34m\u001b[0m\u001b[0;34m\u001b[0m\u001b[0m\n\u001b[0m\u001b[1;32m     73\u001b[0m       \u001b[0mtrain_acc\u001b[0m\u001b[0;34m.\u001b[0m\u001b[0mappend\u001b[0m\u001b[0;34m(\u001b[0m\u001b[0mtrain_accuracy\u001b[0m\u001b[0;34m)\u001b[0m\u001b[0;34m\u001b[0m\u001b[0;34m\u001b[0m\u001b[0m\n\u001b[1;32m     74\u001b[0m \u001b[0;34m\u001b[0m\u001b[0m\n",
            "\u001b[0;32m<ipython-input-11-7dcf4ff16c73>\u001b[0m in \u001b[0;36mcalculate_accuracy\u001b[0;34m(loader, model, pbar)\u001b[0m\n\u001b[1;32m     35\u001b[0m               \u001b[0m_\u001b[0m\u001b[0;34m,\u001b[0m \u001b[0mpredicted\u001b[0m \u001b[0;34m=\u001b[0m \u001b[0mtorch\u001b[0m\u001b[0;34m.\u001b[0m\u001b[0mmax\u001b[0m\u001b[0;34m(\u001b[0m\u001b[0moutputs\u001b[0m\u001b[0;34m.\u001b[0m\u001b[0mdata\u001b[0m\u001b[0;34m,\u001b[0m \u001b[0;36m1\u001b[0m\u001b[0;34m)\u001b[0m\u001b[0;34m\u001b[0m\u001b[0;34m\u001b[0m\u001b[0m\n\u001b[1;32m     36\u001b[0m               \u001b[0mtotal\u001b[0m \u001b[0;34m+=\u001b[0m \u001b[0mlabels\u001b[0m\u001b[0;34m.\u001b[0m\u001b[0msize\u001b[0m\u001b[0;34m(\u001b[0m\u001b[0;36m0\u001b[0m\u001b[0;34m)\u001b[0m\u001b[0;34m\u001b[0m\u001b[0;34m\u001b[0m\u001b[0m\n\u001b[0;32m---> 37\u001b[0;31m               \u001b[0mcorrect\u001b[0m \u001b[0;34m+=\u001b[0m \u001b[0;34m(\u001b[0m\u001b[0mpredicted\u001b[0m \u001b[0;34m==\u001b[0m \u001b[0mlabels\u001b[0m\u001b[0;34m.\u001b[0m\u001b[0msqueeze\u001b[0m\u001b[0;34m(\u001b[0m\u001b[0;34m)\u001b[0m\u001b[0;34m)\u001b[0m\u001b[0;34m.\u001b[0m\u001b[0msum\u001b[0m\u001b[0;34m(\u001b[0m\u001b[0;34m)\u001b[0m\u001b[0;34m.\u001b[0m\u001b[0mitem\u001b[0m\u001b[0;34m(\u001b[0m\u001b[0;34m)\u001b[0m\u001b[0;34m\u001b[0m\u001b[0;34m\u001b[0m\u001b[0m\n\u001b[0m\u001b[1;32m     38\u001b[0m               \u001b[0;32mif\u001b[0m \u001b[0mpbar\u001b[0m\u001b[0;34m:\u001b[0m\u001b[0;34m\u001b[0m\u001b[0;34m\u001b[0m\u001b[0m\n\u001b[1;32m     39\u001b[0m                 \u001b[0mpbar\u001b[0m\u001b[0;34m.\u001b[0m\u001b[0mupdate\u001b[0m\u001b[0;34m(\u001b[0m\u001b[0;36m1\u001b[0m\u001b[0;34m)\u001b[0m\u001b[0;34m\u001b[0m\u001b[0;34m\u001b[0m\u001b[0m\n",
            "\u001b[0;31mKeyboardInterrupt\u001b[0m: "
          ]
        }
      ],
      "source": [
        "model = torchvision.models.vit_l_16(weights=models.ViT_L_16_Weights.IMAGENET1K_SWAG_LINEAR_V1)\n",
        "\n",
        "train_samples, test_samples = get_train_test_split(0.85)\n",
        "train_data = ImageDataset(train_samples, tranformations = image_augmentation,\n",
        "                          augmentation=True, default_transformation=default_transformation)\n",
        "test_data = ImageDataset(test_samples, default_transformation=default_transformation)\n",
        "\n",
        "for para in model.parameters():\n",
        "    para.requires_grad = False\n",
        "\n",
        "num_features = model.heads.head.in_features\n",
        "model.heads.head = ModelHead(num_features)\n",
        "model.to(get_default_device())\n",
        "\n",
        "tunable_layers = 23 #onwards\n",
        "tune_layers = [f'encoder.layers.encoder_layer_{str(i)}' for i in range(tunable_layers,24)]\n",
        "tune_layers.extend(['encoder.ln.weight','encoder.ln.bias', 'heads.head', 'heads.head'])\n",
        "\n",
        "\n",
        "for name, params in model.named_parameters():\n",
        "  exists = False\n",
        "  for t in tune_layers:\n",
        "    if t in name:\n",
        "      exists = True\n",
        "      break\n",
        "  if exists:\n",
        "    params.requires_grad = True\n",
        "    #print(name,'Unfrozen')\n",
        "\n",
        "\n",
        "for name, params in model.named_parameters():\n",
        "  if params.requires_grad:\n",
        "    print('Unfrozen',name)\n",
        "\n",
        "training_loop(model, train_data, test_data, num_epochs=20, b_size=16,\n",
        "             model_name='vit-l-16-unfreeze23')"
      ]
    },
    {
      "cell_type": "code",
      "execution_count": null,
      "metadata": {
        "id": "fSYep3CRj0_m"
      },
      "outputs": [],
      "source": [
        "cleanup(model)"
      ]
    },
    {
      "cell_type": "markdown",
      "metadata": {
        "id": "2Efegw1-HPJ8"
      },
      "source": [
        "## Unfreeze 22 onwards"
      ]
    },
    {
      "cell_type": "code",
      "execution_count": null,
      "metadata": {
        "colab": {
          "base_uri": "https://localhost:8080/"
        },
        "id": "0s_XDDo6j6HG",
        "outputId": "fdd8e9a4-d556-4a35-a6c0-42e2531fc97c"
      },
      "outputs": [
        {
          "name": "stdout",
          "output_type": "stream",
          "text": [
            "Unfrozen encoder.layers.encoder_layer_22.ln_1.weight\n",
            "Unfrozen encoder.layers.encoder_layer_22.ln_1.bias\n",
            "Unfrozen encoder.layers.encoder_layer_22.self_attention.in_proj_weight\n",
            "Unfrozen encoder.layers.encoder_layer_22.self_attention.in_proj_bias\n",
            "Unfrozen encoder.layers.encoder_layer_22.self_attention.out_proj.weight\n",
            "Unfrozen encoder.layers.encoder_layer_22.self_attention.out_proj.bias\n",
            "Unfrozen encoder.layers.encoder_layer_22.ln_2.weight\n",
            "Unfrozen encoder.layers.encoder_layer_22.ln_2.bias\n",
            "Unfrozen encoder.layers.encoder_layer_22.mlp.0.weight\n",
            "Unfrozen encoder.layers.encoder_layer_22.mlp.0.bias\n",
            "Unfrozen encoder.layers.encoder_layer_22.mlp.3.weight\n",
            "Unfrozen encoder.layers.encoder_layer_22.mlp.3.bias\n",
            "Unfrozen encoder.layers.encoder_layer_23.ln_1.weight\n",
            "Unfrozen encoder.layers.encoder_layer_23.ln_1.bias\n",
            "Unfrozen encoder.layers.encoder_layer_23.self_attention.in_proj_weight\n",
            "Unfrozen encoder.layers.encoder_layer_23.self_attention.in_proj_bias\n",
            "Unfrozen encoder.layers.encoder_layer_23.self_attention.out_proj.weight\n",
            "Unfrozen encoder.layers.encoder_layer_23.self_attention.out_proj.bias\n",
            "Unfrozen encoder.layers.encoder_layer_23.ln_2.weight\n",
            "Unfrozen encoder.layers.encoder_layer_23.ln_2.bias\n",
            "Unfrozen encoder.layers.encoder_layer_23.mlp.0.weight\n",
            "Unfrozen encoder.layers.encoder_layer_23.mlp.0.bias\n",
            "Unfrozen encoder.layers.encoder_layer_23.mlp.3.weight\n",
            "Unfrozen encoder.layers.encoder_layer_23.mlp.3.bias\n",
            "Unfrozen encoder.ln.weight\n",
            "Unfrozen encoder.ln.bias\n",
            "Unfrozen heads.head.custom_classifier.0.weight\n",
            "Unfrozen heads.head.custom_classifier.0.bias\n",
            "Unfrozen heads.head.custom_classifier.3.weight\n",
            "Unfrozen heads.head.custom_classifier.3.bias\n",
            "Training # 0\n"
          ]
        },
        {
          "name": "stderr",
          "output_type": "stream",
          "text": [
            "100%|██████████| 585/585 [07:16<00:00,  1.34it/s]\n"
          ]
        },
        {
          "name": "stdout",
          "output_type": "stream",
          "text": [
            "Computing Train Accuracy...\n"
          ]
        },
        {
          "name": "stderr",
          "output_type": "stream",
          "text": [
            "100%|██████████| 585/585 [04:31<00:00,  2.15it/s]\n"
          ]
        },
        {
          "name": "stdout",
          "output_type": "stream",
          "text": [
            "Testing # 0\n"
          ]
        },
        {
          "name": "stderr",
          "output_type": "stream",
          "text": [
            "100%|██████████| 10/10 [00:04<00:00,  2.40it/s]\n"
          ]
        },
        {
          "name": "stdout",
          "output_type": "stream",
          "text": [
            "Computing Test Accuracy...\n"
          ]
        },
        {
          "name": "stderr",
          "output_type": "stream",
          "text": [
            "100%|██████████| 10/10 [00:04<00:00,  2.41it/s]\n"
          ]
        },
        {
          "name": "stdout",
          "output_type": "stream",
          "text": [
            "\n",
            "Epoch 1/20, Train Loss: 3.8058, Train Acc: 10.93%, Test Loss: 3.1250, Test Acc: 8.67% \n",
            "\n",
            "______________________________\n",
            "\n",
            "******************************\n",
            "\n",
            "Best Epoch so far: 1, Train Loss: 3.8058, Train Acc: 10.93%, Test Loss: 3.1250, Test Acc: 8.67% \n",
            "\n",
            "******************************\n",
            "\n",
            "\n",
            "Training # 1\n"
          ]
        },
        {
          "name": "stderr",
          "output_type": "stream",
          "text": [
            "100%|██████████| 585/585 [07:16<00:00,  1.34it/s]\n"
          ]
        },
        {
          "name": "stdout",
          "output_type": "stream",
          "text": [
            "Computing Train Accuracy...\n"
          ]
        },
        {
          "name": "stderr",
          "output_type": "stream",
          "text": [
            "100%|██████████| 585/585 [04:31<00:00,  2.16it/s]\n"
          ]
        },
        {
          "name": "stdout",
          "output_type": "stream",
          "text": [
            "Testing # 1\n"
          ]
        },
        {
          "name": "stderr",
          "output_type": "stream",
          "text": [
            "100%|██████████| 10/10 [00:04<00:00,  2.43it/s]\n"
          ]
        },
        {
          "name": "stdout",
          "output_type": "stream",
          "text": [
            "Computing Test Accuracy...\n"
          ]
        },
        {
          "name": "stderr",
          "output_type": "stream",
          "text": [
            "100%|██████████| 10/10 [00:04<00:00,  2.45it/s]\n"
          ]
        },
        {
          "name": "stdout",
          "output_type": "stream",
          "text": [
            "\n",
            "Epoch 2/20, Train Loss: 2.7108, Train Acc: 30.84%, Test Loss: 2.4068, Test Acc: 21.33% \n",
            "\n",
            "______________________________\n",
            "\n",
            "******************************\n",
            "\n",
            "Best Epoch so far: 2, Train Loss: 2.7108, Train Acc: 30.84%, Test Loss: 2.4068, Test Acc: 21.33% \n",
            "\n",
            "******************************\n",
            "\n",
            "\n",
            "Training # 2\n"
          ]
        },
        {
          "name": "stderr",
          "output_type": "stream",
          "text": [
            "100%|██████████| 585/585 [07:16<00:00,  1.34it/s]\n"
          ]
        },
        {
          "name": "stdout",
          "output_type": "stream",
          "text": [
            "Computing Train Accuracy...\n"
          ]
        },
        {
          "name": "stderr",
          "output_type": "stream",
          "text": [
            "100%|██████████| 585/585 [04:31<00:00,  2.16it/s]\n"
          ]
        },
        {
          "name": "stdout",
          "output_type": "stream",
          "text": [
            "Testing # 2\n"
          ]
        },
        {
          "name": "stderr",
          "output_type": "stream",
          "text": [
            "100%|██████████| 10/10 [00:04<00:00,  2.44it/s]\n"
          ]
        },
        {
          "name": "stdout",
          "output_type": "stream",
          "text": [
            "Computing Test Accuracy...\n"
          ]
        },
        {
          "name": "stderr",
          "output_type": "stream",
          "text": [
            "100%|██████████| 10/10 [00:04<00:00,  2.40it/s]\n"
          ]
        },
        {
          "name": "stdout",
          "output_type": "stream",
          "text": [
            "\n",
            "Epoch 3/20, Train Loss: 1.9034, Train Acc: 57.75%, Test Loss: 1.3511, Test Acc: 54.00% \n",
            "\n",
            "______________________________\n",
            "\n",
            "******************************\n",
            "\n",
            "Best Epoch so far: 3, Train Loss: 1.9034, Train Acc: 57.75%, Test Loss: 1.3511, Test Acc: 54.00% \n",
            "\n",
            "******************************\n",
            "\n",
            "\n",
            "Training # 3\n"
          ]
        },
        {
          "name": "stderr",
          "output_type": "stream",
          "text": [
            "100%|██████████| 585/585 [07:16<00:00,  1.34it/s]\n"
          ]
        },
        {
          "name": "stdout",
          "output_type": "stream",
          "text": [
            "Computing Train Accuracy...\n"
          ]
        },
        {
          "name": "stderr",
          "output_type": "stream",
          "text": [
            "100%|██████████| 585/585 [04:31<00:00,  2.16it/s]\n"
          ]
        },
        {
          "name": "stdout",
          "output_type": "stream",
          "text": [
            "Testing # 3\n"
          ]
        },
        {
          "name": "stderr",
          "output_type": "stream",
          "text": [
            "100%|██████████| 10/10 [00:04<00:00,  2.43it/s]\n"
          ]
        },
        {
          "name": "stdout",
          "output_type": "stream",
          "text": [
            "Computing Test Accuracy...\n"
          ]
        },
        {
          "name": "stderr",
          "output_type": "stream",
          "text": [
            "100%|██████████| 10/10 [00:04<00:00,  2.44it/s]\n"
          ]
        },
        {
          "name": "stdout",
          "output_type": "stream",
          "text": [
            "\n",
            "Epoch 4/20, Train Loss: 1.4240, Train Acc: 68.73%, Test Loss: 1.0508, Test Acc: 65.33% \n",
            "\n",
            "______________________________\n",
            "\n",
            "******************************\n",
            "\n",
            "Best Epoch so far: 4, Train Loss: 1.4240, Train Acc: 68.73%, Test Loss: 1.0508, Test Acc: 65.33% \n",
            "\n",
            "******************************\n",
            "\n",
            "\n",
            "Training # 4\n"
          ]
        },
        {
          "name": "stderr",
          "output_type": "stream",
          "text": [
            "100%|██████████| 585/585 [07:15<00:00,  1.34it/s]\n"
          ]
        },
        {
          "name": "stdout",
          "output_type": "stream",
          "text": [
            "Computing Train Accuracy...\n"
          ]
        },
        {
          "name": "stderr",
          "output_type": "stream",
          "text": [
            "100%|██████████| 585/585 [04:31<00:00,  2.15it/s]\n"
          ]
        },
        {
          "name": "stdout",
          "output_type": "stream",
          "text": [
            "Testing # 4\n"
          ]
        },
        {
          "name": "stderr",
          "output_type": "stream",
          "text": [
            "100%|██████████| 10/10 [00:04<00:00,  2.42it/s]\n"
          ]
        },
        {
          "name": "stdout",
          "output_type": "stream",
          "text": [
            "Computing Test Accuracy...\n"
          ]
        },
        {
          "name": "stderr",
          "output_type": "stream",
          "text": [
            "100%|██████████| 10/10 [00:04<00:00,  2.42it/s]\n"
          ]
        },
        {
          "name": "stdout",
          "output_type": "stream",
          "text": [
            "\n",
            "Epoch 5/20, Train Loss: 1.1539, Train Acc: 74.30%, Test Loss: 0.9979, Test Acc: 68.00% \n",
            "\n",
            "______________________________\n",
            "\n",
            "******************************\n",
            "\n",
            "Best Epoch so far: 5, Train Loss: 1.1539, Train Acc: 74.30%, Test Loss: 0.9979, Test Acc: 68.00% \n",
            "\n",
            "******************************\n",
            "\n",
            "\n",
            "Training # 5\n"
          ]
        },
        {
          "name": "stderr",
          "output_type": "stream",
          "text": [
            "100%|██████████| 585/585 [07:16<00:00,  1.34it/s]\n"
          ]
        },
        {
          "name": "stdout",
          "output_type": "stream",
          "text": [
            "Computing Train Accuracy...\n"
          ]
        },
        {
          "name": "stderr",
          "output_type": "stream",
          "text": [
            "100%|██████████| 585/585 [04:32<00:00,  2.15it/s]\n"
          ]
        },
        {
          "name": "stdout",
          "output_type": "stream",
          "text": [
            "Testing # 5\n"
          ]
        },
        {
          "name": "stderr",
          "output_type": "stream",
          "text": [
            "100%|██████████| 10/10 [00:04<00:00,  2.42it/s]\n"
          ]
        },
        {
          "name": "stdout",
          "output_type": "stream",
          "text": [
            "Computing Test Accuracy...\n"
          ]
        },
        {
          "name": "stderr",
          "output_type": "stream",
          "text": [
            "100%|██████████| 10/10 [00:04<00:00,  2.44it/s]\n"
          ]
        },
        {
          "name": "stdout",
          "output_type": "stream",
          "text": [
            "\n",
            "Epoch 6/20, Train Loss: 0.9773, Train Acc: 75.74%, Test Loss: 1.0038, Test Acc: 66.67% \n",
            "\n",
            "______________________________\n",
            "\n",
            "Training # 6\n"
          ]
        },
        {
          "name": "stderr",
          "output_type": "stream",
          "text": [
            "100%|██████████| 585/585 [07:16<00:00,  1.34it/s]\n"
          ]
        },
        {
          "name": "stdout",
          "output_type": "stream",
          "text": [
            "Computing Train Accuracy...\n"
          ]
        },
        {
          "name": "stderr",
          "output_type": "stream",
          "text": [
            "100%|██████████| 585/585 [04:32<00:00,  2.14it/s]\n"
          ]
        },
        {
          "name": "stdout",
          "output_type": "stream",
          "text": [
            "Testing # 6\n"
          ]
        },
        {
          "name": "stderr",
          "output_type": "stream",
          "text": [
            "100%|██████████| 10/10 [00:04<00:00,  2.41it/s]\n"
          ]
        },
        {
          "name": "stdout",
          "output_type": "stream",
          "text": [
            "Computing Test Accuracy...\n"
          ]
        },
        {
          "name": "stderr",
          "output_type": "stream",
          "text": [
            "100%|██████████| 10/10 [00:04<00:00,  2.42it/s]\n"
          ]
        },
        {
          "name": "stdout",
          "output_type": "stream",
          "text": [
            "\n",
            "Epoch 7/20, Train Loss: 0.8277, Train Acc: 81.09%, Test Loss: 0.8708, Test Acc: 73.33% \n",
            "\n",
            "______________________________\n",
            "\n",
            "******************************\n",
            "\n",
            "Best Epoch so far: 7, Train Loss: 0.8277, Train Acc: 81.09%, Test Loss: 0.8708, Test Acc: 73.33% \n",
            "\n",
            "******************************\n",
            "\n",
            "\n",
            "Training # 7\n"
          ]
        },
        {
          "name": "stderr",
          "output_type": "stream",
          "text": [
            "100%|██████████| 585/585 [07:16<00:00,  1.34it/s]\n"
          ]
        },
        {
          "name": "stdout",
          "output_type": "stream",
          "text": [
            "Computing Train Accuracy...\n"
          ]
        },
        {
          "name": "stderr",
          "output_type": "stream",
          "text": [
            "100%|██████████| 585/585 [04:34<00:00,  2.13it/s]\n"
          ]
        },
        {
          "name": "stdout",
          "output_type": "stream",
          "text": [
            "Testing # 7\n"
          ]
        },
        {
          "name": "stderr",
          "output_type": "stream",
          "text": [
            "100%|██████████| 10/10 [00:04<00:00,  2.42it/s]\n"
          ]
        },
        {
          "name": "stdout",
          "output_type": "stream",
          "text": [
            "Computing Test Accuracy...\n"
          ]
        },
        {
          "name": "stderr",
          "output_type": "stream",
          "text": [
            "100%|██████████| 10/10 [00:04<00:00,  2.35it/s]\n"
          ]
        },
        {
          "name": "stdout",
          "output_type": "stream",
          "text": [
            "\n",
            "Epoch 8/20, Train Loss: 0.7456, Train Acc: 82.68%, Test Loss: 0.8899, Test Acc: 73.33% \n",
            "\n",
            "______________________________\n",
            "\n",
            "Training # 8\n"
          ]
        },
        {
          "name": "stderr",
          "output_type": "stream",
          "text": [
            "100%|██████████| 585/585 [07:23<00:00,  1.32it/s]\n"
          ]
        },
        {
          "name": "stdout",
          "output_type": "stream",
          "text": [
            "Computing Train Accuracy...\n"
          ]
        },
        {
          "name": "stderr",
          "output_type": "stream",
          "text": [
            "100%|██████████| 585/585 [04:36<00:00,  2.11it/s]\n"
          ]
        },
        {
          "name": "stdout",
          "output_type": "stream",
          "text": [
            "Testing # 8\n"
          ]
        },
        {
          "name": "stderr",
          "output_type": "stream",
          "text": [
            "100%|██████████| 10/10 [00:04<00:00,  2.27it/s]\n"
          ]
        },
        {
          "name": "stdout",
          "output_type": "stream",
          "text": [
            "Computing Test Accuracy...\n"
          ]
        },
        {
          "name": "stderr",
          "output_type": "stream",
          "text": [
            "100%|██████████| 10/10 [00:04<00:00,  2.42it/s]\n"
          ]
        },
        {
          "name": "stdout",
          "output_type": "stream",
          "text": [
            "\n",
            "Epoch 9/20, Train Loss: 0.6650, Train Acc: 86.02%, Test Loss: 0.8676, Test Acc: 75.33% \n",
            "\n",
            "______________________________\n",
            "\n",
            "******************************\n",
            "\n",
            "Best Epoch so far: 9, Train Loss: 0.6650, Train Acc: 86.02%, Test Loss: 0.8676, Test Acc: 75.33% \n",
            "\n",
            "******************************\n",
            "\n",
            "\n",
            "Training # 9\n"
          ]
        },
        {
          "name": "stderr",
          "output_type": "stream",
          "text": [
            "100%|██████████| 585/585 [07:22<00:00,  1.32it/s]\n"
          ]
        },
        {
          "name": "stdout",
          "output_type": "stream",
          "text": [
            "Computing Train Accuracy...\n"
          ]
        },
        {
          "name": "stderr",
          "output_type": "stream",
          "text": [
            "100%|██████████| 585/585 [05:55<00:00,  1.65it/s]\n"
          ]
        },
        {
          "name": "stdout",
          "output_type": "stream",
          "text": [
            "Testing # 9\n"
          ]
        },
        {
          "name": "stderr",
          "output_type": "stream",
          "text": [
            "100%|██████████| 10/10 [00:04<00:00,  2.33it/s]\n"
          ]
        },
        {
          "name": "stdout",
          "output_type": "stream",
          "text": [
            "Computing Test Accuracy...\n"
          ]
        },
        {
          "name": "stderr",
          "output_type": "stream",
          "text": [
            "100%|██████████| 10/10 [00:04<00:00,  2.41it/s]\n"
          ]
        },
        {
          "name": "stdout",
          "output_type": "stream",
          "text": [
            "\n",
            "Epoch 10/20, Train Loss: 0.5953, Train Acc: 87.49%, Test Loss: 0.6983, Test Acc: 78.00% \n",
            "\n",
            "______________________________\n",
            "\n",
            "******************************\n",
            "\n",
            "Best Epoch so far: 10, Train Loss: 0.5953, Train Acc: 87.49%, Test Loss: 0.6983, Test Acc: 78.00% \n",
            "\n",
            "******************************\n",
            "\n",
            "\n",
            "Training # 10\n"
          ]
        },
        {
          "name": "stderr",
          "output_type": "stream",
          "text": [
            "100%|██████████| 585/585 [08:23<00:00,  1.16it/s]\n"
          ]
        },
        {
          "name": "stdout",
          "output_type": "stream",
          "text": [
            "Computing Train Accuracy...\n"
          ]
        },
        {
          "name": "stderr",
          "output_type": "stream",
          "text": [
            "100%|██████████| 585/585 [04:32<00:00,  2.15it/s]\n"
          ]
        },
        {
          "name": "stdout",
          "output_type": "stream",
          "text": [
            "Testing # 10\n"
          ]
        },
        {
          "name": "stderr",
          "output_type": "stream",
          "text": [
            "100%|██████████| 10/10 [00:04<00:00,  2.44it/s]\n"
          ]
        },
        {
          "name": "stdout",
          "output_type": "stream",
          "text": [
            "Computing Test Accuracy...\n"
          ]
        },
        {
          "name": "stderr",
          "output_type": "stream",
          "text": [
            "100%|██████████| 10/10 [00:04<00:00,  2.40it/s]\n"
          ]
        },
        {
          "name": "stdout",
          "output_type": "stream",
          "text": [
            "\n",
            "Epoch 11/20, Train Loss: 0.5621, Train Acc: 87.73%, Test Loss: 0.8248, Test Acc: 76.67% \n",
            "\n",
            "______________________________\n",
            "\n",
            "Training # 11\n"
          ]
        },
        {
          "name": "stderr",
          "output_type": "stream",
          "text": [
            "100%|██████████| 585/585 [07:41<00:00,  1.27it/s]\n"
          ]
        },
        {
          "name": "stdout",
          "output_type": "stream",
          "text": [
            "Computing Train Accuracy...\n"
          ]
        },
        {
          "name": "stderr",
          "output_type": "stream",
          "text": [
            "100%|██████████| 585/585 [04:47<00:00,  2.03it/s]\n"
          ]
        },
        {
          "name": "stdout",
          "output_type": "stream",
          "text": [
            "Testing # 11\n"
          ]
        },
        {
          "name": "stderr",
          "output_type": "stream",
          "text": [
            "100%|██████████| 10/10 [00:04<00:00,  2.41it/s]\n"
          ]
        },
        {
          "name": "stdout",
          "output_type": "stream",
          "text": [
            "Computing Test Accuracy...\n"
          ]
        },
        {
          "name": "stderr",
          "output_type": "stream",
          "text": [
            "100%|██████████| 10/10 [00:04<00:00,  2.45it/s]\n"
          ]
        },
        {
          "name": "stdout",
          "output_type": "stream",
          "text": [
            "\n",
            "Epoch 12/20, Train Loss: 0.5095, Train Acc: 88.20%, Test Loss: 0.9451, Test Acc: 72.67% \n",
            "\n",
            "______________________________\n",
            "\n",
            "Training # 12\n"
          ]
        },
        {
          "name": "stderr",
          "output_type": "stream",
          "text": [
            "100%|██████████| 585/585 [07:13<00:00,  1.35it/s]\n"
          ]
        },
        {
          "name": "stdout",
          "output_type": "stream",
          "text": [
            "Computing Train Accuracy...\n"
          ]
        },
        {
          "name": "stderr",
          "output_type": "stream",
          "text": [
            "100%|██████████| 585/585 [04:28<00:00,  2.18it/s]\n"
          ]
        },
        {
          "name": "stdout",
          "output_type": "stream",
          "text": [
            "Testing # 12\n"
          ]
        },
        {
          "name": "stderr",
          "output_type": "stream",
          "text": [
            "100%|██████████| 10/10 [00:04<00:00,  2.45it/s]\n"
          ]
        },
        {
          "name": "stdout",
          "output_type": "stream",
          "text": [
            "Computing Test Accuracy...\n"
          ]
        },
        {
          "name": "stderr",
          "output_type": "stream",
          "text": [
            "100%|██████████| 10/10 [00:04<00:00,  2.41it/s]\n"
          ]
        },
        {
          "name": "stdout",
          "output_type": "stream",
          "text": [
            "\n",
            "Epoch 13/20, Train Loss: 0.4740, Train Acc: 87.25%, Test Loss: 0.8504, Test Acc: 74.67% \n",
            "\n",
            "______________________________\n",
            "\n",
            "Training # 13\n"
          ]
        },
        {
          "name": "stderr",
          "output_type": "stream",
          "text": [
            "100%|██████████| 585/585 [07:13<00:00,  1.35it/s]\n"
          ]
        },
        {
          "name": "stdout",
          "output_type": "stream",
          "text": [
            "Computing Train Accuracy...\n"
          ]
        },
        {
          "name": "stderr",
          "output_type": "stream",
          "text": [
            "100%|██████████| 585/585 [04:29<00:00,  2.17it/s]\n"
          ]
        },
        {
          "name": "stdout",
          "output_type": "stream",
          "text": [
            "Testing # 13\n"
          ]
        },
        {
          "name": "stderr",
          "output_type": "stream",
          "text": [
            "100%|██████████| 10/10 [00:04<00:00,  2.42it/s]\n"
          ]
        },
        {
          "name": "stdout",
          "output_type": "stream",
          "text": [
            "Computing Test Accuracy...\n"
          ]
        },
        {
          "name": "stderr",
          "output_type": "stream",
          "text": [
            "100%|██████████| 10/10 [00:04<00:00,  2.41it/s]\n"
          ]
        },
        {
          "name": "stdout",
          "output_type": "stream",
          "text": [
            "\n",
            "Epoch 14/20, Train Loss: 0.4450, Train Acc: 91.90%, Test Loss: 0.7910, Test Acc: 80.00% \n",
            "\n",
            "______________________________\n",
            "\n",
            "******************************\n",
            "\n",
            "Best Epoch so far: 14, Train Loss: 0.4450, Train Acc: 91.90%, Test Loss: 0.7910, Test Acc: 80.00% \n",
            "\n",
            "******************************\n",
            "\n",
            "\n",
            "Training # 14\n"
          ]
        },
        {
          "name": "stderr",
          "output_type": "stream",
          "text": [
            "100%|██████████| 585/585 [07:41<00:00,  1.27it/s]\n"
          ]
        },
        {
          "name": "stdout",
          "output_type": "stream",
          "text": [
            "Computing Train Accuracy...\n"
          ]
        },
        {
          "name": "stderr",
          "output_type": "stream",
          "text": [
            " 93%|█████████▎| 544/585 [04:14<00:18,  2.18it/s]"
          ]
        }
      ],
      "source": [
        "model = torchvision.models.vit_l_16(weights=models.ViT_L_16_Weights.IMAGENET1K_SWAG_LINEAR_V1)\n",
        "\n",
        "train_samples, test_samples = get_train_test_split(0.85)\n",
        "train_data = ImageDataset(train_samples, tranformations = image_augmentation,\n",
        "                          augmentation=True, default_transformation=default_transformation)\n",
        "test_data = ImageDataset(test_samples, default_transformation=default_transformation)\n",
        "\n",
        "for para in model.parameters():\n",
        "    para.requires_grad = False\n",
        "\n",
        "num_features = model.heads.head.in_features\n",
        "model.heads.head = ModelHead(num_features)\n",
        "model.to(get_default_device())\n",
        "\n",
        "tunable_layers = 22 #onwards\n",
        "tune_layers = [f'encoder.layers.encoder_layer_{str(i)}' for i in range(tunable_layers,24)]\n",
        "tune_layers.extend(['encoder.ln.weight','encoder.ln.bias', 'heads.head', 'heads.head'])\n",
        "\n",
        "\n",
        "for name, params in model.named_parameters():\n",
        "  exists = False\n",
        "  for t in tune_layers:\n",
        "    if t in name:\n",
        "      exists = True\n",
        "      break\n",
        "  if exists:\n",
        "    params.requires_grad = True\n",
        "    #print(name,'Unfrozen')\n",
        "\n",
        "\n",
        "for name, params in model.named_parameters():\n",
        "  if params.requires_grad:\n",
        "    print('Unfrozen',name)\n",
        "\n",
        "training_loop(model, train_data, test_data, num_epochs=10, b_size=16,\n",
        "             model_name='vit-l-16-unfreeze22')"
      ]
    },
    {
      "cell_type": "markdown",
      "metadata": {
        "id": "SERr-z6zHUG5"
      },
      "source": [
        "## Increasing Training Epochs of previously Tuned model (Validation Accuracy reaches 90%)"
      ]
    },
    {
      "cell_type": "code",
      "execution_count": null,
      "metadata": {
        "colab": {
          "base_uri": "https://localhost:8080/"
        },
        "id": "mcv9OaSN3Wc4",
        "outputId": "f71387fa-42f4-4cda-b8b5-a89dc31d0c6d"
      },
      "outputs": [
        {
          "name": "stdout",
          "output_type": "stream",
          "text": [
            "<All keys matched successfully>\n",
            "Unfrozen layers\n",
            "['encoder.layers.encoder_layer_23.ln_1.weight', 'encoder.layers.encoder_layer_23.ln_1.bias', 'encoder.layers.encoder_layer_23.self_attention.in_proj_weight', 'encoder.layers.encoder_layer_23.self_attention.in_proj_bias', 'encoder.layers.encoder_layer_23.self_attention.out_proj.weight', 'encoder.layers.encoder_layer_23.self_attention.out_proj.bias', 'encoder.layers.encoder_layer_23.ln_2.weight', 'encoder.layers.encoder_layer_23.ln_2.bias', 'encoder.layers.encoder_layer_23.mlp.0.weight', 'encoder.layers.encoder_layer_23.mlp.0.bias', 'encoder.layers.encoder_layer_23.mlp.3.weight', 'encoder.layers.encoder_layer_23.mlp.3.bias', 'encoder.ln.weight', 'encoder.ln.bias', 'heads.head.custom_classifier.0.weight', 'heads.head.custom_classifier.0.bias', 'heads.head.custom_classifier.3.weight', 'heads.head.custom_classifier.3.bias']\n",
            "Training # 0\n"
          ]
        },
        {
          "name": "stderr",
          "output_type": "stream",
          "text": [
            "100%|██████████| 600/600 [07:21<00:00,  1.36it/s]\n"
          ]
        },
        {
          "name": "stdout",
          "output_type": "stream",
          "text": [
            "Computing Train Accuracy...\n"
          ]
        },
        {
          "name": "stderr",
          "output_type": "stream",
          "text": [
            "100%|██████████| 600/600 [04:43<00:00,  2.12it/s]\n"
          ]
        },
        {
          "name": "stdout",
          "output_type": "stream",
          "text": [
            "Testing # 0\n"
          ]
        },
        {
          "name": "stderr",
          "output_type": "stream",
          "text": [
            "100%|██████████| 13/13 [00:05<00:00,  2.32it/s]\n"
          ]
        },
        {
          "name": "stdout",
          "output_type": "stream",
          "text": [
            "Computing Test Accuracy...\n"
          ]
        },
        {
          "name": "stderr",
          "output_type": "stream",
          "text": [
            "100%|██████████| 13/13 [00:05<00:00,  2.36it/s]\n"
          ]
        },
        {
          "name": "stdout",
          "output_type": "stream",
          "text": [
            "\n",
            "Epoch 1/10, Train Loss: 0.4312, Train Acc: 91.55%, Test Loss: 0.4456, Test Acc: 89.50% \n",
            "\n",
            "______________________________\n",
            "\n",
            "******************************\n",
            "\n",
            "Best Epoch so far: 1, Train Loss: 0.4312, Train Acc: 91.55%, Test Loss: 0.4456, Test Acc: 89.50% \n",
            "\n",
            "******************************\n",
            "\n",
            "\n",
            "Training # 1\n"
          ]
        },
        {
          "name": "stderr",
          "output_type": "stream",
          "text": [
            "100%|██████████| 600/600 [07:20<00:00,  1.36it/s]\n"
          ]
        },
        {
          "name": "stdout",
          "output_type": "stream",
          "text": [
            "Computing Train Accuracy...\n"
          ]
        },
        {
          "name": "stderr",
          "output_type": "stream",
          "text": [
            "100%|██████████| 600/600 [04:41<00:00,  2.13it/s]\n"
          ]
        },
        {
          "name": "stdout",
          "output_type": "stream",
          "text": [
            "Testing # 1\n"
          ]
        },
        {
          "name": "stderr",
          "output_type": "stream",
          "text": [
            "100%|██████████| 13/13 [00:05<00:00,  2.36it/s]\n"
          ]
        },
        {
          "name": "stdout",
          "output_type": "stream",
          "text": [
            "Computing Test Accuracy...\n"
          ]
        },
        {
          "name": "stderr",
          "output_type": "stream",
          "text": [
            "100%|██████████| 13/13 [00:05<00:00,  2.37it/s]\n"
          ]
        },
        {
          "name": "stdout",
          "output_type": "stream",
          "text": [
            "\n",
            "Epoch 2/10, Train Loss: 0.3547, Train Acc: 93.05%, Test Loss: 0.3823, Test Acc: 88.00% \n",
            "\n",
            "______________________________\n",
            "\n",
            "Training # 2\n"
          ]
        },
        {
          "name": "stderr",
          "output_type": "stream",
          "text": [
            "100%|██████████| 600/600 [07:18<00:00,  1.37it/s]\n"
          ]
        },
        {
          "name": "stdout",
          "output_type": "stream",
          "text": [
            "Computing Train Accuracy...\n"
          ]
        },
        {
          "name": "stderr",
          "output_type": "stream",
          "text": [
            "100%|██████████| 600/600 [04:41<00:00,  2.13it/s]\n"
          ]
        },
        {
          "name": "stdout",
          "output_type": "stream",
          "text": [
            "Testing # 2\n"
          ]
        },
        {
          "name": "stderr",
          "output_type": "stream",
          "text": [
            "100%|██████████| 13/13 [00:05<00:00,  2.39it/s]\n"
          ]
        },
        {
          "name": "stdout",
          "output_type": "stream",
          "text": [
            "Computing Test Accuracy...\n"
          ]
        },
        {
          "name": "stderr",
          "output_type": "stream",
          "text": [
            "100%|██████████| 13/13 [00:05<00:00,  2.38it/s]\n"
          ]
        },
        {
          "name": "stdout",
          "output_type": "stream",
          "text": [
            "\n",
            "Epoch 3/10, Train Loss: 0.3026, Train Acc: 94.20%, Test Loss: 0.3117, Test Acc: 90.00% \n",
            "\n",
            "______________________________\n",
            "\n",
            "******************************\n",
            "\n",
            "Best Epoch so far: 3, Train Loss: 0.3026, Train Acc: 94.20%, Test Loss: 0.3117, Test Acc: 90.00% \n",
            "\n",
            "******************************\n",
            "\n",
            "\n",
            "Training # 3\n"
          ]
        },
        {
          "name": "stderr",
          "output_type": "stream",
          "text": [
            "100%|██████████| 600/600 [07:18<00:00,  1.37it/s]\n"
          ]
        },
        {
          "name": "stdout",
          "output_type": "stream",
          "text": [
            "Computing Train Accuracy...\n"
          ]
        },
        {
          "name": "stderr",
          "output_type": "stream",
          "text": [
            "100%|██████████| 600/600 [04:42<00:00,  2.12it/s]\n"
          ]
        },
        {
          "name": "stdout",
          "output_type": "stream",
          "text": [
            "Testing # 3\n"
          ]
        },
        {
          "name": "stderr",
          "output_type": "stream",
          "text": [
            "100%|██████████| 13/13 [00:05<00:00,  2.36it/s]\n"
          ]
        },
        {
          "name": "stdout",
          "output_type": "stream",
          "text": [
            "Computing Test Accuracy...\n"
          ]
        },
        {
          "name": "stderr",
          "output_type": "stream",
          "text": [
            "100%|██████████| 13/13 [00:05<00:00,  2.37it/s]\n"
          ]
        },
        {
          "name": "stdout",
          "output_type": "stream",
          "text": [
            "\n",
            "Epoch 4/10, Train Loss: 0.2609, Train Acc: 94.61%, Test Loss: 0.5749, Test Acc: 88.50% \n",
            "\n",
            "______________________________\n",
            "\n",
            "Training # 4\n"
          ]
        },
        {
          "name": "stderr",
          "output_type": "stream",
          "text": [
            "100%|██████████| 600/600 [07:19<00:00,  1.37it/s]\n"
          ]
        },
        {
          "name": "stdout",
          "output_type": "stream",
          "text": [
            "Computing Train Accuracy...\n"
          ]
        },
        {
          "name": "stderr",
          "output_type": "stream",
          "text": [
            "100%|██████████| 600/600 [04:41<00:00,  2.13it/s]\n"
          ]
        },
        {
          "name": "stdout",
          "output_type": "stream",
          "text": [
            "Testing # 4\n"
          ]
        },
        {
          "name": "stderr",
          "output_type": "stream",
          "text": [
            "100%|██████████| 13/13 [00:05<00:00,  2.36it/s]\n"
          ]
        },
        {
          "name": "stdout",
          "output_type": "stream",
          "text": [
            "Computing Test Accuracy...\n"
          ]
        },
        {
          "name": "stderr",
          "output_type": "stream",
          "text": [
            "100%|██████████| 13/13 [00:05<00:00,  2.34it/s]\n"
          ]
        },
        {
          "name": "stdout",
          "output_type": "stream",
          "text": [
            "\n",
            "Epoch 5/10, Train Loss: 0.2521, Train Acc: 92.60%, Test Loss: 0.7996, Test Acc: 84.50% \n",
            "\n",
            "______________________________\n",
            "\n",
            "Training # 5\n"
          ]
        },
        {
          "name": "stderr",
          "output_type": "stream",
          "text": [
            "100%|██████████| 600/600 [07:42<00:00,  1.30it/s]\n"
          ]
        },
        {
          "name": "stdout",
          "output_type": "stream",
          "text": [
            "Computing Train Accuracy...\n"
          ]
        },
        {
          "name": "stderr",
          "output_type": "stream",
          "text": [
            "100%|██████████| 600/600 [04:45<00:00,  2.10it/s]\n"
          ]
        },
        {
          "name": "stdout",
          "output_type": "stream",
          "text": [
            "Testing # 5\n"
          ]
        },
        {
          "name": "stderr",
          "output_type": "stream",
          "text": [
            "100%|██████████| 13/13 [00:05<00:00,  2.32it/s]\n"
          ]
        },
        {
          "name": "stdout",
          "output_type": "stream",
          "text": [
            "Computing Test Accuracy...\n"
          ]
        },
        {
          "name": "stderr",
          "output_type": "stream",
          "text": [
            "100%|██████████| 13/13 [00:05<00:00,  2.35it/s]\n"
          ]
        },
        {
          "name": "stdout",
          "output_type": "stream",
          "text": [
            "\n",
            "Epoch 6/10, Train Loss: 0.2273, Train Acc: 96.51%, Test Loss: 0.5104, Test Acc: 85.50% \n",
            "\n",
            "______________________________\n",
            "\n",
            "Training # 6\n"
          ]
        },
        {
          "name": "stderr",
          "output_type": "stream",
          "text": [
            "100%|██████████| 600/600 [07:22<00:00,  1.36it/s]\n"
          ]
        },
        {
          "name": "stdout",
          "output_type": "stream",
          "text": [
            "Computing Train Accuracy...\n"
          ]
        },
        {
          "name": "stderr",
          "output_type": "stream",
          "text": [
            "100%|██████████| 600/600 [04:45<00:00,  2.10it/s]\n"
          ]
        },
        {
          "name": "stdout",
          "output_type": "stream",
          "text": [
            "Testing # 6\n"
          ]
        },
        {
          "name": "stderr",
          "output_type": "stream",
          "text": [
            "100%|██████████| 13/13 [00:05<00:00,  2.21it/s]\n"
          ]
        },
        {
          "name": "stdout",
          "output_type": "stream",
          "text": [
            "Computing Test Accuracy...\n"
          ]
        },
        {
          "name": "stderr",
          "output_type": "stream",
          "text": [
            "100%|██████████| 13/13 [00:06<00:00,  2.12it/s]\n"
          ]
        },
        {
          "name": "stdout",
          "output_type": "stream",
          "text": [
            "\n",
            "Epoch 7/10, Train Loss: 0.2388, Train Acc: 96.14%, Test Loss: 0.4677, Test Acc: 86.00% \n",
            "\n",
            "______________________________\n",
            "\n",
            "Training # 7\n"
          ]
        },
        {
          "name": "stderr",
          "output_type": "stream",
          "text": [
            "100%|██████████| 600/600 [07:40<00:00,  1.30it/s]\n"
          ]
        },
        {
          "name": "stdout",
          "output_type": "stream",
          "text": [
            "Computing Train Accuracy...\n"
          ]
        },
        {
          "name": "stderr",
          "output_type": "stream",
          "text": [
            "100%|██████████| 600/600 [04:43<00:00,  2.11it/s]\n"
          ]
        },
        {
          "name": "stdout",
          "output_type": "stream",
          "text": [
            "Testing # 7\n"
          ]
        },
        {
          "name": "stderr",
          "output_type": "stream",
          "text": [
            "100%|██████████| 13/13 [00:05<00:00,  2.36it/s]\n"
          ]
        },
        {
          "name": "stdout",
          "output_type": "stream",
          "text": [
            "Computing Test Accuracy...\n"
          ]
        },
        {
          "name": "stderr",
          "output_type": "stream",
          "text": [
            "100%|██████████| 13/13 [00:05<00:00,  2.35it/s]\n"
          ]
        },
        {
          "name": "stdout",
          "output_type": "stream",
          "text": [
            "\n",
            "Epoch 8/10, Train Loss: 0.2106, Train Acc: 96.67%, Test Loss: 0.3484, Test Acc: 90.50% \n",
            "\n",
            "______________________________\n",
            "\n",
            "******************************\n",
            "\n",
            "Best Epoch so far: 8, Train Loss: 0.2106, Train Acc: 96.67%, Test Loss: 0.3484, Test Acc: 90.50% \n",
            "\n",
            "******************************\n",
            "\n",
            "\n",
            "Training # 8\n"
          ]
        },
        {
          "name": "stderr",
          "output_type": "stream",
          "text": [
            "100%|██████████| 600/600 [07:42<00:00,  1.30it/s]\n"
          ]
        },
        {
          "name": "stdout",
          "output_type": "stream",
          "text": [
            "Computing Train Accuracy...\n"
          ]
        },
        {
          "name": "stderr",
          "output_type": "stream",
          "text": [
            "100%|██████████| 600/600 [04:43<00:00,  2.11it/s]\n"
          ]
        },
        {
          "name": "stdout",
          "output_type": "stream",
          "text": [
            "Testing # 8\n"
          ]
        },
        {
          "name": "stderr",
          "output_type": "stream",
          "text": [
            "100%|██████████| 13/13 [00:05<00:00,  2.35it/s]\n"
          ]
        },
        {
          "name": "stdout",
          "output_type": "stream",
          "text": [
            "Computing Test Accuracy...\n"
          ]
        },
        {
          "name": "stderr",
          "output_type": "stream",
          "text": [
            "100%|██████████| 13/13 [00:05<00:00,  2.34it/s]\n"
          ]
        },
        {
          "name": "stdout",
          "output_type": "stream",
          "text": [
            "\n",
            "Epoch 9/10, Train Loss: 0.1842, Train Acc: 97.02%, Test Loss: 0.4343, Test Acc: 87.50% \n",
            "\n",
            "______________________________\n",
            "\n",
            "Training # 9\n"
          ]
        },
        {
          "name": "stderr",
          "output_type": "stream",
          "text": [
            "100%|██████████| 600/600 [07:26<00:00,  1.34it/s]\n"
          ]
        },
        {
          "name": "stdout",
          "output_type": "stream",
          "text": [
            "Computing Train Accuracy...\n"
          ]
        },
        {
          "name": "stderr",
          "output_type": "stream",
          "text": [
            "100%|██████████| 600/600 [04:43<00:00,  2.12it/s]\n"
          ]
        },
        {
          "name": "stdout",
          "output_type": "stream",
          "text": [
            "Testing # 9\n"
          ]
        },
        {
          "name": "stderr",
          "output_type": "stream",
          "text": [
            "100%|██████████| 13/13 [00:05<00:00,  2.36it/s]\n"
          ]
        },
        {
          "name": "stdout",
          "output_type": "stream",
          "text": [
            "Computing Test Accuracy...\n"
          ]
        },
        {
          "name": "stderr",
          "output_type": "stream",
          "text": [
            "100%|██████████| 13/13 [00:05<00:00,  2.35it/s]"
          ]
        },
        {
          "name": "stdout",
          "output_type": "stream",
          "text": [
            "\n",
            "Epoch 10/10, Train Loss: 0.1707, Train Acc: 96.64%, Test Loss: 0.7684, Test Acc: 84.00% \n",
            "\n",
            "______________________________\n",
            "\n"
          ]
        },
        {
          "name": "stderr",
          "output_type": "stream",
          "text": [
            "\n"
          ]
        },
        {
          "data": {
            "text/plain": [
              "(96.63541666666667, 0.17065300512275522, 84.0, 0.7683790237284623)"
            ]
          },
          "execution_count": 10,
          "metadata": {},
          "output_type": "execute_result"
        }
      ],
      "source": [
        "#preloading model from previous iteration to complete the 20 epochs\n",
        "model_name = 'vit-l-16-unfreeze23-76.pth'\n",
        "\n",
        "model = torchvision.models.vit_l_16()\n",
        "num_features = model.heads.head.in_features\n",
        "model.heads.head = ModelHead(num_features)\n",
        "print(model.load_state_dict(torch.load(model_name)))\n",
        "model.to(device)\n",
        "\n",
        "for para in model.parameters():\n",
        "    para.requires_grad = False\n",
        "\n",
        "tunable_layers = 23 #onwards\n",
        "tune_layers = [f'encoder.layers.encoder_layer_{str(i)}' for i in range(tunable_layers,24)]\n",
        "tune_layers.extend(['encoder.ln.weight','encoder.ln.bias', 'heads.head', 'heads.head'])\n",
        "\n",
        "\n",
        "for name, params in model.named_parameters():\n",
        "  exists = False\n",
        "  for t in tune_layers:\n",
        "    if t in name:\n",
        "      exists = True\n",
        "      break\n",
        "  if exists:\n",
        "    params.requires_grad = True\n",
        "    #print(name,'Unfrozen')\n",
        "\n",
        "\n",
        "# for name, params in model.named_parameters():\n",
        "#   if params.requires_grad:\n",
        "#     print('Unfrozen',name)\n",
        "print('Unfrozen layers')\n",
        "print([name for name,param in model.named_parameters() if param.requires_grad])\n",
        "\n",
        "training_loop(model, train_data, test_data, num_epochs=10, b_size=16,\n",
        "             model_name='vit-l-16-unfreeze23-2')"
      ]
    },
    {
      "cell_type": "code",
      "execution_count": null,
      "metadata": {
        "id": "mP9gRIXekU8U"
      },
      "outputs": [],
      "source": [
        "cleanup(model)"
      ]
    },
    {
      "cell_type": "markdown",
      "metadata": {},
      "source": [
        "## Viewing the model"
      ]
    },
    {
      "cell_type": "code",
      "execution_count": null,
      "metadata": {
        "colab": {
          "base_uri": "https://localhost:8080/"
        },
        "id": "oR2fP7lRdLOz",
        "outputId": "b380296b-0f32-4c08-bb60-c11b98c5b5f1"
      },
      "outputs": [
        {
          "name": "stdout",
          "output_type": "stream",
          "text": [
            "Collecting torchinfo\n",
            "  Downloading torchinfo-1.8.0-py3-none-any.whl (23 kB)\n",
            "Installing collected packages: torchinfo\n",
            "Successfully installed torchinfo-1.8.0\n"
          ]
        }
      ],
      "source": [
        "!pip install torchinfo"
      ]
    },
    {
      "cell_type": "code",
      "execution_count": null,
      "metadata": {
        "id": "9AYe6gSzdNoY"
      },
      "outputs": [],
      "source": [
        "from torchinfo import summary"
      ]
    },
    {
      "cell_type": "code",
      "execution_count": null,
      "metadata": {
        "colab": {
          "base_uri": "https://localhost:8080/"
        },
        "id": "ZIRW7itFcozF",
        "outputId": "13061a51-193c-4506-eba4-d6424f6ed39a"
      },
      "outputs": [
        {
          "data": {
            "text/plain": [
              "============================================================================================================================================\n",
              "Layer (type (var_name))                                      Input Shape          Output Shape         Param #              Trainable\n",
              "============================================================================================================================================\n",
              "VisionTransformer (VisionTransformer)                        [32, 3, 224, 224]    [32, 100]            1,024                Partial\n",
              "├─Conv2d (conv_proj)                                         [32, 3, 224, 224]    [32, 1024, 14, 14]   (787,456)            False\n",
              "├─Encoder (encoder)                                          [32, 197, 1024]      [32, 197, 1024]      201,728              Partial\n",
              "│    └─Dropout (dropout)                                     [32, 197, 1024]      [32, 197, 1024]      --                   --\n",
              "│    └─Sequential (layers)                                   [32, 197, 1024]      [32, 197, 1024]      --                   Partial\n",
              "│    │    └─EncoderBlock (encoder_layer_0)                   [32, 197, 1024]      [32, 197, 1024]      (12,596,224)         False\n",
              "│    │    └─EncoderBlock (encoder_layer_1)                   [32, 197, 1024]      [32, 197, 1024]      (12,596,224)         False\n",
              "│    │    └─EncoderBlock (encoder_layer_2)                   [32, 197, 1024]      [32, 197, 1024]      (12,596,224)         False\n",
              "│    │    └─EncoderBlock (encoder_layer_3)                   [32, 197, 1024]      [32, 197, 1024]      (12,596,224)         False\n",
              "│    │    └─EncoderBlock (encoder_layer_4)                   [32, 197, 1024]      [32, 197, 1024]      (12,596,224)         False\n",
              "│    │    └─EncoderBlock (encoder_layer_5)                   [32, 197, 1024]      [32, 197, 1024]      (12,596,224)         False\n",
              "│    │    └─EncoderBlock (encoder_layer_6)                   [32, 197, 1024]      [32, 197, 1024]      (12,596,224)         False\n",
              "│    │    └─EncoderBlock (encoder_layer_7)                   [32, 197, 1024]      [32, 197, 1024]      (12,596,224)         False\n",
              "│    │    └─EncoderBlock (encoder_layer_8)                   [32, 197, 1024]      [32, 197, 1024]      (12,596,224)         False\n",
              "│    │    └─EncoderBlock (encoder_layer_9)                   [32, 197, 1024]      [32, 197, 1024]      (12,596,224)         False\n",
              "│    │    └─EncoderBlock (encoder_layer_10)                  [32, 197, 1024]      [32, 197, 1024]      (12,596,224)         False\n",
              "│    │    └─EncoderBlock (encoder_layer_11)                  [32, 197, 1024]      [32, 197, 1024]      (12,596,224)         False\n",
              "│    │    └─EncoderBlock (encoder_layer_12)                  [32, 197, 1024]      [32, 197, 1024]      (12,596,224)         False\n",
              "│    │    └─EncoderBlock (encoder_layer_13)                  [32, 197, 1024]      [32, 197, 1024]      (12,596,224)         False\n",
              "│    │    └─EncoderBlock (encoder_layer_14)                  [32, 197, 1024]      [32, 197, 1024]      (12,596,224)         False\n",
              "│    │    └─EncoderBlock (encoder_layer_15)                  [32, 197, 1024]      [32, 197, 1024]      (12,596,224)         False\n",
              "│    │    └─EncoderBlock (encoder_layer_16)                  [32, 197, 1024]      [32, 197, 1024]      (12,596,224)         False\n",
              "│    │    └─EncoderBlock (encoder_layer_17)                  [32, 197, 1024]      [32, 197, 1024]      (12,596,224)         False\n",
              "│    │    └─EncoderBlock (encoder_layer_18)                  [32, 197, 1024]      [32, 197, 1024]      (12,596,224)         False\n",
              "│    │    └─EncoderBlock (encoder_layer_19)                  [32, 197, 1024]      [32, 197, 1024]      (12,596,224)         False\n",
              "│    │    └─EncoderBlock (encoder_layer_20)                  [32, 197, 1024]      [32, 197, 1024]      12,596,224           True\n",
              "│    │    └─EncoderBlock (encoder_layer_21)                  [32, 197, 1024]      [32, 197, 1024]      12,596,224           True\n",
              "│    │    └─EncoderBlock (encoder_layer_22)                  [32, 197, 1024]      [32, 197, 1024]      12,596,224           True\n",
              "│    │    └─EncoderBlock (encoder_layer_23)                  [32, 197, 1024]      [32, 197, 1024]      12,596,224           True\n",
              "│    └─LayerNorm (ln)                                        [32, 197, 1024]      [32, 197, 1024]      2,048                True\n",
              "├─Sequential (heads)                                         [32, 1024]           [32, 100]            --                   True\n",
              "│    └─ModelHead (head)                                      [32, 1024]           [32, 100]            --                   True\n",
              "│    │    └─Sequential (custom_classifier)                   [32, 1024]           [32, 100]            1,152,100            True\n",
              "============================================================================================================================================\n",
              "Total params: 304,453,732\n",
              "Trainable params: 51,539,044\n",
              "Non-trainable params: 252,914,688\n",
              "Total mult-adds (G): 11.43\n",
              "============================================================================================================================================\n",
              "Input size (MB): 19.27\n",
              "Forward/backward pass size (MB): 8779.23\n",
              "Params size (MB): 813.96\n",
              "Estimated Total Size (MB): 9612.45\n",
              "============================================================================================================================================"
            ]
          },
          "execution_count": 31,
          "metadata": {},
          "output_type": "execute_result"
        }
      ],
      "source": [
        "summary(model=model,\n",
        "        input_size=(32, 3, 224, 224), # (batch_size, color_channels, height, width)\n",
        "        col_names=[\"input_size\", \"output_size\", \"num_params\", \"trainable\"],\n",
        "        col_width=20,\n",
        "        row_settings=[\"var_names\"]\n",
        ")"
      ]
    },
    {
      "cell_type": "code",
      "execution_count": null,
      "metadata": {
        "colab": {
          "base_uri": "https://localhost:8080/"
        },
        "id": "VAtSrPy4fLSF",
        "outputId": "c406f79e-3f32-496c-dbf9-cdb1a48ee638"
      },
      "outputs": [
        {
          "data": {
            "text/plain": [
              "============================================================================================================================================\n",
              "Layer (type (var_name))                                      Input Shape          Output Shape         Param #              Trainable\n",
              "============================================================================================================================================\n",
              "VisionTransformer (VisionTransformer)                        [32, 3, 224, 224]    [32, 1000]           1,024                True\n",
              "├─Conv2d (conv_proj)                                         [32, 3, 224, 224]    [32, 1024, 14, 14]   787,456              True\n",
              "├─Encoder (encoder)                                          [32, 197, 1024]      [32, 197, 1024]      201,728              True\n",
              "│    └─Dropout (dropout)                                     [32, 197, 1024]      [32, 197, 1024]      --                   --\n",
              "│    └─Sequential (layers)                                   [32, 197, 1024]      [32, 197, 1024]      --                   True\n",
              "│    │    └─EncoderBlock (encoder_layer_0)                   [32, 197, 1024]      [32, 197, 1024]      12,596,224           True\n",
              "│    │    └─EncoderBlock (encoder_layer_1)                   [32, 197, 1024]      [32, 197, 1024]      12,596,224           True\n",
              "│    │    └─EncoderBlock (encoder_layer_2)                   [32, 197, 1024]      [32, 197, 1024]      12,596,224           True\n",
              "│    │    └─EncoderBlock (encoder_layer_3)                   [32, 197, 1024]      [32, 197, 1024]      12,596,224           True\n",
              "│    │    └─EncoderBlock (encoder_layer_4)                   [32, 197, 1024]      [32, 197, 1024]      12,596,224           True\n",
              "│    │    └─EncoderBlock (encoder_layer_5)                   [32, 197, 1024]      [32, 197, 1024]      12,596,224           True\n",
              "│    │    └─EncoderBlock (encoder_layer_6)                   [32, 197, 1024]      [32, 197, 1024]      12,596,224           True\n",
              "│    │    └─EncoderBlock (encoder_layer_7)                   [32, 197, 1024]      [32, 197, 1024]      12,596,224           True\n",
              "│    │    └─EncoderBlock (encoder_layer_8)                   [32, 197, 1024]      [32, 197, 1024]      12,596,224           True\n",
              "│    │    └─EncoderBlock (encoder_layer_9)                   [32, 197, 1024]      [32, 197, 1024]      12,596,224           True\n",
              "│    │    └─EncoderBlock (encoder_layer_10)                  [32, 197, 1024]      [32, 197, 1024]      12,596,224           True\n",
              "│    │    └─EncoderBlock (encoder_layer_11)                  [32, 197, 1024]      [32, 197, 1024]      12,596,224           True\n",
              "│    │    └─EncoderBlock (encoder_layer_12)                  [32, 197, 1024]      [32, 197, 1024]      12,596,224           True\n",
              "│    │    └─EncoderBlock (encoder_layer_13)                  [32, 197, 1024]      [32, 197, 1024]      12,596,224           True\n",
              "│    │    └─EncoderBlock (encoder_layer_14)                  [32, 197, 1024]      [32, 197, 1024]      12,596,224           True\n",
              "│    │    └─EncoderBlock (encoder_layer_15)                  [32, 197, 1024]      [32, 197, 1024]      12,596,224           True\n",
              "│    │    └─EncoderBlock (encoder_layer_16)                  [32, 197, 1024]      [32, 197, 1024]      12,596,224           True\n",
              "│    │    └─EncoderBlock (encoder_layer_17)                  [32, 197, 1024]      [32, 197, 1024]      12,596,224           True\n",
              "│    │    └─EncoderBlock (encoder_layer_18)                  [32, 197, 1024]      [32, 197, 1024]      12,596,224           True\n",
              "│    │    └─EncoderBlock (encoder_layer_19)                  [32, 197, 1024]      [32, 197, 1024]      12,596,224           True\n",
              "│    │    └─EncoderBlock (encoder_layer_20)                  [32, 197, 1024]      [32, 197, 1024]      12,596,224           True\n",
              "│    │    └─EncoderBlock (encoder_layer_21)                  [32, 197, 1024]      [32, 197, 1024]      12,596,224           True\n",
              "│    │    └─EncoderBlock (encoder_layer_22)                  [32, 197, 1024]      [32, 197, 1024]      12,596,224           True\n",
              "│    │    └─EncoderBlock (encoder_layer_23)                  [32, 197, 1024]      [32, 197, 1024]      12,596,224           True\n",
              "│    └─LayerNorm (ln)                                        [32, 197, 1024]      [32, 197, 1024]      2,048                True\n",
              "├─Sequential (heads)                                         [32, 1024]           [32, 1000]           --                   True\n",
              "│    └─Linear (head)                                         [32, 1024]           [32, 1000]           1,025,000            True\n",
              "============================================================================================================================================\n",
              "Total params: 304,326,632\n",
              "Trainable params: 304,326,632\n",
              "Non-trainable params: 0\n",
              "Total mult-adds (G): 11.42\n",
              "============================================================================================================================================\n",
              "Input size (MB): 19.27\n",
              "Forward/backward pass size (MB): 8779.20\n",
              "Params size (MB): 813.45\n",
              "Estimated Total Size (MB): 9611.91\n",
              "============================================================================================================================================"
            ]
          },
          "execution_count": 33,
          "metadata": {},
          "output_type": "execute_result"
        }
      ],
      "source": [
        "summary(model=model,\n",
        "        input_size=(32, 3, 224, 224), # (batch_size, color_channels, height, width)\n",
        "        col_names=[\"input_size\", \"output_size\", \"num_params\", \"trainable\"],\n",
        "        col_width=20,\n",
        "        row_settings=[\"var_names\"]\n",
        ")"
      ]
    },
    {
      "cell_type": "markdown",
      "metadata": {
        "id": "4OD5YrsLIwKQ"
      },
      "source": [
        "# Predictions"
      ]
    },
    {
      "cell_type": "markdown",
      "metadata": {},
      "source": [
        "Before this section can be executed, one needs to run the training loop to save the tuned models to disk. The filename will be needed to load the model and do the predictions."
      ]
    },
    {
      "cell_type": "code",
      "execution_count": 7,
      "metadata": {
        "id": "23iHDPsyIvSx"
      },
      "outputs": [],
      "source": [
        "class PredictionDataset(Dataset):\n",
        "  def __init__(self, root, default_transformation = None):\n",
        "    self.root = root\n",
        "    self.default_transformation = default_transformation\n",
        "\n",
        "  def __len__(self):\n",
        "    return 1000\n",
        "\n",
        "  def __getitem__(self, index):\n",
        "    img_path = os.path.join(self.root, str(index) + '.jpg')\n",
        "    label = f'{str(index)}.jpg'\n",
        "    image = Image.open(img_path).convert('RGB')\n",
        "    if self.default_transformation:\n",
        "      image = self.default_transformation(image)\n",
        "    return image, label\n",
        "\n",
        "\n",
        "def generate_prediction(model, b_size = 16):\n",
        "  model.eval()\n",
        "  default_transformation = transforms.Compose(\n",
        "      [\n",
        "          transforms.Resize(final_size),\n",
        "          transforms.ToTensor(),\n",
        "          #transforms.Normalize(mean=mean, std=std)\n",
        "      ]\n",
        "  )\n",
        "  pred_data = PredictionDataset(\"data/data/test/test\", default_transformation)\n",
        "  pred_loader = DataLoader(pred_data, batch_size = b_size, shuffle = False)\n",
        "  pred_names = []\n",
        "  pred_labels = []\n",
        "  with torch.no_grad():\n",
        "    for data in pred_loader:\n",
        "      images, names = data\n",
        "      #print(type(names))\n",
        "      #print(type(images))\n",
        "      images = images.to(device)\n",
        "      outputs = model(images)\n",
        "      _, predicted = torch.max(outputs.data, 1)\n",
        "      #print(type(predicted))\n",
        "      #print(list(names))\n",
        "      #print(list(predicted))\n",
        "      pred_names.extend(names)\n",
        "      pred_labels.extend(predicted.cpu().numpy())\n",
        "  return pd.DataFrame({'ID':pred_names, 'Label':pred_labels})"
      ]
    },
    {
      "cell_type": "markdown",
      "metadata": {
        "id": "VA79WdfgJR0A"
      },
      "source": [
        "## Resnet Prediction"
      ]
    },
    {
      "cell_type": "code",
      "execution_count": 11,
      "metadata": {
        "colab": {
          "base_uri": "https://localhost:8080/"
        },
        "id": "Nvh2vUByI8kh",
        "outputId": "bb737d7c-fbed-4f70-a492-3f6c0258b33d"
      },
      "outputs": [
        {
          "name": "stdout",
          "output_type": "stream",
          "text": [
            "<All keys matched successfully>\n"
          ]
        }
      ],
      "source": [
        "model_name = 'restnet-152-testacc-42.pth'\n",
        "pred_file = 'predictions-10-res.csv'\n",
        "\n",
        "model = torchvision.models.resnet152()\n",
        "num_features = model.fc.in_features\n",
        "model.fc = ModelHead(num_features)\n",
        "print(model.load_state_dict(torch.load(model_name)))\n",
        "model.to(device)\n",
        "\n",
        "predictions = generate_prediction(model)\n",
        "predictions.to_csv(pred_file,index=False)"
      ]
    },
    {
      "cell_type": "markdown",
      "metadata": {
        "id": "rvES1D3YJU6S"
      },
      "source": [
        "## ViT Prediction"
      ]
    },
    {
      "cell_type": "code",
      "execution_count": 12,
      "metadata": {
        "colab": {
          "base_uri": "https://localhost:8080/"
        },
        "id": "4W70kHqqJURZ",
        "outputId": "8366a379-fb0c-4c0a-bc82-6bfed1bf6bc1"
      },
      "outputs": [
        {
          "name": "stdout",
          "output_type": "stream",
          "text": [
            "<All keys matched successfully>\n"
          ]
        }
      ],
      "source": [
        "model_name = 'vit-l-16-unfreeze22-93.pth'\n",
        "pred_file = 'predictions-11.csv'\n",
        "\n",
        "model = torchvision.models.vit_l_16()\n",
        "num_features = model.heads.head.in_features\n",
        "model.heads.head = ModelHead(num_features)\n",
        "print(model.load_state_dict(torch.load(model_name)))\n",
        "model.to(device)\n",
        "\n",
        "predictions = generate_prediction(model)\n",
        "predictions.to_csv(pred_file,index=False)"
      ]
    },
    {
      "cell_type": "code",
      "execution_count": null,
      "metadata": {
        "id": "658Rtn6CKt_t"
      },
      "outputs": [],
      "source": []
    }
  ],
  "metadata": {
    "colab": {
      "collapsed_sections": [
        "ectWxsDIGh3V",
        "cnrVutPQGl5i",
        "Wz0gtluhGrnJ",
        "pzdQX0KeGwGc",
        "gs0on47Gp203",
        "In7U66SRHHzz",
        "2Efegw1-HPJ8"
      ],
      "provenance": []
    },
    "kernelspec": {
      "display_name": "Python 3",
      "name": "python3"
    },
    "language_info": {
      "name": "python"
    }
  },
  "nbformat": 4,
  "nbformat_minor": 0
}
